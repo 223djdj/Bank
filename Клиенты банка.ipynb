{
 "cells": [
  {
   "cell_type": "markdown",
   "id": "9612787f",
   "metadata": {},
   "source": [
    "*Датасет, выбранный для анализа - это полная информация о клиентах международного банка ABC. На основе анализа датасета мы можем сравнить клиентов банка, посмотреть соцдем характеристики, проанализировать основных клиентов, которые покинули банк и спрогнозировать, что будет в будущем.*"
   ]
  },
  {
   "cell_type": "markdown",
   "id": "03f6f574",
   "metadata": {},
   "source": [
    "**Датасет содержит следующую информацию:**\n",
    "\n",
    "1. customer_id - id клиента\n",
    "2. credit_score - кредитоспособность (осценка способности клиента погосить кредит от 300 до 850)\n",
    "3. country - страна проживания клиента\n",
    "4. gender - пол клиента\n",
    "5. age - возраст клиента\n",
    "6. tenure - срок сотрудничества клиента с банком\n",
    "7. balance - размер вклада клиента\n",
    "8. products_number - количество продуктов (услуг), которые клиент использует в банке\n",
    "9. credit_card - наличие кредитной карты (1 - если карта есть, 0 - если нет)\n",
    "10. active_member - активность клиента (1 - если клиент активно взаимодействовует/ал с банком, 0 - если нет)\n",
    "11. estimated_salary - размер зарабтоной платы клиента\n",
    "12. churn - отток (прекращение сотрудничества клиента с банком, 1 - если клиент покинул банк, 0 - если нет)"
   ]
  },
  {
   "cell_type": "code",
   "execution_count": 1,
   "id": "59b3d792",
   "metadata": {},
   "outputs": [
    {
     "data": {
      "text/html": [
       "<div>\n",
       "<style scoped>\n",
       "    .dataframe tbody tr th:only-of-type {\n",
       "        vertical-align: middle;\n",
       "    }\n",
       "\n",
       "    .dataframe tbody tr th {\n",
       "        vertical-align: top;\n",
       "    }\n",
       "\n",
       "    .dataframe thead th {\n",
       "        text-align: right;\n",
       "    }\n",
       "</style>\n",
       "<table border=\"1\" class=\"dataframe\">\n",
       "  <thead>\n",
       "    <tr style=\"text-align: right;\">\n",
       "      <th></th>\n",
       "      <th>customer_id</th>\n",
       "      <th>credit_score</th>\n",
       "      <th>country</th>\n",
       "      <th>gender</th>\n",
       "      <th>age</th>\n",
       "      <th>tenure</th>\n",
       "      <th>balance</th>\n",
       "      <th>products_number</th>\n",
       "      <th>credit_card</th>\n",
       "      <th>active_member</th>\n",
       "      <th>estimated_salary</th>\n",
       "      <th>churn</th>\n",
       "    </tr>\n",
       "  </thead>\n",
       "  <tbody>\n",
       "    <tr>\n",
       "      <th>0</th>\n",
       "      <td>15634602</td>\n",
       "      <td>619</td>\n",
       "      <td>France</td>\n",
       "      <td>Female</td>\n",
       "      <td>42</td>\n",
       "      <td>2</td>\n",
       "      <td>0.00</td>\n",
       "      <td>1</td>\n",
       "      <td>1</td>\n",
       "      <td>1</td>\n",
       "      <td>101348.88</td>\n",
       "      <td>1</td>\n",
       "    </tr>\n",
       "    <tr>\n",
       "      <th>1</th>\n",
       "      <td>15647311</td>\n",
       "      <td>608</td>\n",
       "      <td>Spain</td>\n",
       "      <td>Female</td>\n",
       "      <td>41</td>\n",
       "      <td>1</td>\n",
       "      <td>83807.86</td>\n",
       "      <td>1</td>\n",
       "      <td>0</td>\n",
       "      <td>1</td>\n",
       "      <td>112542.58</td>\n",
       "      <td>0</td>\n",
       "    </tr>\n",
       "    <tr>\n",
       "      <th>2</th>\n",
       "      <td>15619304</td>\n",
       "      <td>502</td>\n",
       "      <td>France</td>\n",
       "      <td>Female</td>\n",
       "      <td>42</td>\n",
       "      <td>8</td>\n",
       "      <td>159660.80</td>\n",
       "      <td>3</td>\n",
       "      <td>1</td>\n",
       "      <td>0</td>\n",
       "      <td>113931.57</td>\n",
       "      <td>1</td>\n",
       "    </tr>\n",
       "    <tr>\n",
       "      <th>3</th>\n",
       "      <td>15701354</td>\n",
       "      <td>699</td>\n",
       "      <td>France</td>\n",
       "      <td>Female</td>\n",
       "      <td>39</td>\n",
       "      <td>1</td>\n",
       "      <td>0.00</td>\n",
       "      <td>2</td>\n",
       "      <td>0</td>\n",
       "      <td>0</td>\n",
       "      <td>93826.63</td>\n",
       "      <td>0</td>\n",
       "    </tr>\n",
       "    <tr>\n",
       "      <th>4</th>\n",
       "      <td>15737888</td>\n",
       "      <td>850</td>\n",
       "      <td>Spain</td>\n",
       "      <td>Female</td>\n",
       "      <td>43</td>\n",
       "      <td>2</td>\n",
       "      <td>125510.82</td>\n",
       "      <td>1</td>\n",
       "      <td>1</td>\n",
       "      <td>1</td>\n",
       "      <td>79084.10</td>\n",
       "      <td>0</td>\n",
       "    </tr>\n",
       "  </tbody>\n",
       "</table>\n",
       "</div>"
      ],
      "text/plain": [
       "   customer_id  credit_score country  gender  age  tenure    balance  \\\n",
       "0     15634602           619  France  Female   42       2       0.00   \n",
       "1     15647311           608   Spain  Female   41       1   83807.86   \n",
       "2     15619304           502  France  Female   42       8  159660.80   \n",
       "3     15701354           699  France  Female   39       1       0.00   \n",
       "4     15737888           850   Spain  Female   43       2  125510.82   \n",
       "\n",
       "   products_number  credit_card  active_member  estimated_salary  churn  \n",
       "0                1            1              1         101348.88      1  \n",
       "1                1            0              1         112542.58      0  \n",
       "2                3            1              0         113931.57      1  \n",
       "3                2            0              0          93826.63      0  \n",
       "4                1            1              1          79084.10      0  "
      ]
     },
     "execution_count": 1,
     "metadata": {},
     "output_type": "execute_result"
    }
   ],
   "source": [
    "import pandas as pd\n",
    "import numpy as np\n",
    "import matplotlib.pyplot as plt\n",
    "bank = pd.read_csv(\"Bank Customer Churn Prediction.csv\")\n",
    "bank.head()"
   ]
  },
  {
   "cell_type": "markdown",
   "id": "edbb3b22",
   "metadata": {},
   "source": [
    "Для начала подробнее посмотрим на датасет."
   ]
  },
  {
   "cell_type": "code",
   "execution_count": 2,
   "id": "72364027",
   "metadata": {},
   "outputs": [
    {
     "name": "stdout",
     "output_type": "stream",
     "text": [
      "<class 'pandas.core.frame.DataFrame'>\n",
      "RangeIndex: 10000 entries, 0 to 9999\n",
      "Data columns (total 12 columns):\n",
      " #   Column            Non-Null Count  Dtype  \n",
      "---  ------            --------------  -----  \n",
      " 0   customer_id       10000 non-null  int64  \n",
      " 1   credit_score      10000 non-null  int64  \n",
      " 2   country           10000 non-null  object \n",
      " 3   gender            10000 non-null  object \n",
      " 4   age               10000 non-null  int64  \n",
      " 5   tenure            10000 non-null  int64  \n",
      " 6   balance           10000 non-null  float64\n",
      " 7   products_number   10000 non-null  int64  \n",
      " 8   credit_card       10000 non-null  int64  \n",
      " 9   active_member     10000 non-null  int64  \n",
      " 10  estimated_salary  10000 non-null  float64\n",
      " 11  churn             10000 non-null  int64  \n",
      "dtypes: float64(2), int64(8), object(2)\n",
      "memory usage: 937.6+ KB\n"
     ]
    }
   ],
   "source": [
    "bank.info() #в датасете 12 коллонок и 10000 строк, пропусков нет, узнали типы данных (object - строка, int64 - целое число, float64 - вещественные числа)"
   ]
  },
  {
   "cell_type": "code",
   "execution_count": 3,
   "id": "47d6cacb",
   "metadata": {},
   "outputs": [
    {
     "data": {
      "text/html": [
       "<div>\n",
       "<style scoped>\n",
       "    .dataframe tbody tr th:only-of-type {\n",
       "        vertical-align: middle;\n",
       "    }\n",
       "\n",
       "    .dataframe tbody tr th {\n",
       "        vertical-align: top;\n",
       "    }\n",
       "\n",
       "    .dataframe thead th {\n",
       "        text-align: right;\n",
       "    }\n",
       "</style>\n",
       "<table border=\"1\" class=\"dataframe\">\n",
       "  <thead>\n",
       "    <tr style=\"text-align: right;\">\n",
       "      <th></th>\n",
       "      <th>customer_id</th>\n",
       "      <th>credit_score</th>\n",
       "      <th>country</th>\n",
       "      <th>gender</th>\n",
       "      <th>age</th>\n",
       "      <th>tenure</th>\n",
       "      <th>balance</th>\n",
       "      <th>products_number</th>\n",
       "      <th>credit_card</th>\n",
       "      <th>active_member</th>\n",
       "      <th>estimated_salary</th>\n",
       "      <th>churn</th>\n",
       "    </tr>\n",
       "  </thead>\n",
       "  <tbody>\n",
       "    <tr>\n",
       "      <th>9995</th>\n",
       "      <td>15606229</td>\n",
       "      <td>771</td>\n",
       "      <td>France</td>\n",
       "      <td>Male</td>\n",
       "      <td>39</td>\n",
       "      <td>5</td>\n",
       "      <td>0.00</td>\n",
       "      <td>2</td>\n",
       "      <td>1</td>\n",
       "      <td>0</td>\n",
       "      <td>96270.64</td>\n",
       "      <td>0</td>\n",
       "    </tr>\n",
       "    <tr>\n",
       "      <th>9996</th>\n",
       "      <td>15569892</td>\n",
       "      <td>516</td>\n",
       "      <td>France</td>\n",
       "      <td>Male</td>\n",
       "      <td>35</td>\n",
       "      <td>10</td>\n",
       "      <td>57369.61</td>\n",
       "      <td>1</td>\n",
       "      <td>1</td>\n",
       "      <td>1</td>\n",
       "      <td>101699.77</td>\n",
       "      <td>0</td>\n",
       "    </tr>\n",
       "    <tr>\n",
       "      <th>9997</th>\n",
       "      <td>15584532</td>\n",
       "      <td>709</td>\n",
       "      <td>France</td>\n",
       "      <td>Female</td>\n",
       "      <td>36</td>\n",
       "      <td>7</td>\n",
       "      <td>0.00</td>\n",
       "      <td>1</td>\n",
       "      <td>0</td>\n",
       "      <td>1</td>\n",
       "      <td>42085.58</td>\n",
       "      <td>1</td>\n",
       "    </tr>\n",
       "    <tr>\n",
       "      <th>9998</th>\n",
       "      <td>15682355</td>\n",
       "      <td>772</td>\n",
       "      <td>Germany</td>\n",
       "      <td>Male</td>\n",
       "      <td>42</td>\n",
       "      <td>3</td>\n",
       "      <td>75075.31</td>\n",
       "      <td>2</td>\n",
       "      <td>1</td>\n",
       "      <td>0</td>\n",
       "      <td>92888.52</td>\n",
       "      <td>1</td>\n",
       "    </tr>\n",
       "    <tr>\n",
       "      <th>9999</th>\n",
       "      <td>15628319</td>\n",
       "      <td>792</td>\n",
       "      <td>France</td>\n",
       "      <td>Female</td>\n",
       "      <td>28</td>\n",
       "      <td>4</td>\n",
       "      <td>130142.79</td>\n",
       "      <td>1</td>\n",
       "      <td>1</td>\n",
       "      <td>0</td>\n",
       "      <td>38190.78</td>\n",
       "      <td>0</td>\n",
       "    </tr>\n",
       "  </tbody>\n",
       "</table>\n",
       "</div>"
      ],
      "text/plain": [
       "      customer_id  credit_score  country  gender  age  tenure    balance  \\\n",
       "9995     15606229           771   France    Male   39       5       0.00   \n",
       "9996     15569892           516   France    Male   35      10   57369.61   \n",
       "9997     15584532           709   France  Female   36       7       0.00   \n",
       "9998     15682355           772  Germany    Male   42       3   75075.31   \n",
       "9999     15628319           792   France  Female   28       4  130142.79   \n",
       "\n",
       "      products_number  credit_card  active_member  estimated_salary  churn  \n",
       "9995                2            1              0          96270.64      0  \n",
       "9996                1            1              1         101699.77      0  \n",
       "9997                1            0              1          42085.58      1  \n",
       "9998                2            1              0          92888.52      1  \n",
       "9999                1            1              0          38190.78      0  "
      ]
     },
     "execution_count": 3,
     "metadata": {},
     "output_type": "execute_result"
    }
   ],
   "source": [
    "bank.tail() #посмотрим на конец датасета"
   ]
  },
  {
   "cell_type": "code",
   "execution_count": 4,
   "id": "538613a9",
   "metadata": {},
   "outputs": [
    {
     "data": {
      "text/plain": [
       "(10000, 12)"
      ]
     },
     "execution_count": 4,
     "metadata": {},
     "output_type": "execute_result"
    }
   ],
   "source": [
    "bank.shape #размер датасета"
   ]
  },
  {
   "cell_type": "code",
   "execution_count": 5,
   "id": "ba791558",
   "metadata": {},
   "outputs": [
    {
     "data": {
      "text/plain": [
       "customer_id         10000\n",
       "credit_score          460\n",
       "country                 3\n",
       "gender                  2\n",
       "age                    70\n",
       "tenure                 11\n",
       "balance              6382\n",
       "products_number         4\n",
       "credit_card             2\n",
       "active_member           2\n",
       "estimated_salary     9999\n",
       "churn                   2\n",
       "dtype: int64"
      ]
     },
     "execution_count": 5,
     "metadata": {},
     "output_type": "execute_result"
    }
   ],
   "source": [
    "bank.nunique() #количество уникальных значений"
   ]
  },
  {
   "cell_type": "code",
   "execution_count": 6,
   "id": "71866618",
   "metadata": {},
   "outputs": [],
   "source": [
    "bank.drop('customer_id',axis = 1,inplace = True) #В датасете нет пропущенных данных. Однако мы можем избавиться от одного из столбцов, потому что он не несет в себе важного смысла для анализа (customer_id)."
   ]
  },
  {
   "cell_type": "code",
   "execution_count": 7,
   "id": "b0476edb",
   "metadata": {},
   "outputs": [
    {
     "data": {
      "text/plain": [
       "Index(['credit_score', 'country', 'gender', 'age', 'tenure', 'balance',\n",
       "       'products_number', 'credit_card', 'active_member', 'estimated_salary',\n",
       "       'churn'],\n",
       "      dtype='object')"
      ]
     },
     "execution_count": 7,
     "metadata": {},
     "output_type": "execute_result"
    }
   ],
   "source": [
    "bank.columns #далее переименуем колоники, чтобы было удобнее дальше анализировать "
   ]
  },
  {
   "cell_type": "code",
   "execution_count": 8,
   "id": "314609e9",
   "metadata": {},
   "outputs": [],
   "source": [
    "bank.rename(columns = {'credit_score':'кредитоспособность', 'country':'страна клиента', 'gender':'пол',\n",
    "                            'age':'возраст', 'tenure':'срок сотрудничества', 'balance':'баланс', \n",
    "                            'products_number':'количесвто продуктов из банка','credit_card':'наличие кредитной карты', \n",
    "                            'active_member':'активность клиента в банке', 'estimated_salary':'доход клиента', \n",
    "                            'churn':'отток'}, inplace = True)"
   ]
  },
  {
   "cell_type": "code",
   "execution_count": 9,
   "id": "d32b1e3c",
   "metadata": {},
   "outputs": [
    {
     "data": {
      "text/html": [
       "<div>\n",
       "<style scoped>\n",
       "    .dataframe tbody tr th:only-of-type {\n",
       "        vertical-align: middle;\n",
       "    }\n",
       "\n",
       "    .dataframe tbody tr th {\n",
       "        vertical-align: top;\n",
       "    }\n",
       "\n",
       "    .dataframe thead th {\n",
       "        text-align: right;\n",
       "    }\n",
       "</style>\n",
       "<table border=\"1\" class=\"dataframe\">\n",
       "  <thead>\n",
       "    <tr style=\"text-align: right;\">\n",
       "      <th></th>\n",
       "      <th>кредитоспособность</th>\n",
       "      <th>страна клиента</th>\n",
       "      <th>пол</th>\n",
       "      <th>возраст</th>\n",
       "      <th>срок сотрудничества</th>\n",
       "      <th>баланс</th>\n",
       "      <th>количесвто продуктов из банка</th>\n",
       "      <th>наличие кредитной карты</th>\n",
       "      <th>активность клиента в банке</th>\n",
       "      <th>доход клиента</th>\n",
       "      <th>отток</th>\n",
       "    </tr>\n",
       "  </thead>\n",
       "  <tbody>\n",
       "    <tr>\n",
       "      <th>0</th>\n",
       "      <td>619</td>\n",
       "      <td>France</td>\n",
       "      <td>Female</td>\n",
       "      <td>42</td>\n",
       "      <td>2</td>\n",
       "      <td>0.00</td>\n",
       "      <td>1</td>\n",
       "      <td>1</td>\n",
       "      <td>1</td>\n",
       "      <td>101348.88</td>\n",
       "      <td>1</td>\n",
       "    </tr>\n",
       "    <tr>\n",
       "      <th>1</th>\n",
       "      <td>608</td>\n",
       "      <td>Spain</td>\n",
       "      <td>Female</td>\n",
       "      <td>41</td>\n",
       "      <td>1</td>\n",
       "      <td>83807.86</td>\n",
       "      <td>1</td>\n",
       "      <td>0</td>\n",
       "      <td>1</td>\n",
       "      <td>112542.58</td>\n",
       "      <td>0</td>\n",
       "    </tr>\n",
       "  </tbody>\n",
       "</table>\n",
       "</div>"
      ],
      "text/plain": [
       "   кредитоспособность страна клиента     пол  возраст  срок сотрудничества  \\\n",
       "0                 619         France  Female       42                    2   \n",
       "1                 608          Spain  Female       41                    1   \n",
       "\n",
       "     баланс  количесвто продуктов из банка  наличие кредитной карты  \\\n",
       "0      0.00                              1                        1   \n",
       "1  83807.86                              1                        0   \n",
       "\n",
       "   активность клиента в банке  доход клиента  отток  \n",
       "0                           1      101348.88      1  \n",
       "1                           1      112542.58      0  "
      ]
     },
     "execution_count": 9,
     "metadata": {},
     "output_type": "execute_result"
    }
   ],
   "source": [
    "bank[:2] #выведем первые строки, чтобы посмотреть, что получилось"
   ]
  },
  {
   "cell_type": "code",
   "execution_count": 10,
   "id": "f9e606dc",
   "metadata": {},
   "outputs": [
    {
     "data": {
      "text/html": [
       "<div>\n",
       "<style scoped>\n",
       "    .dataframe tbody tr th:only-of-type {\n",
       "        vertical-align: middle;\n",
       "    }\n",
       "\n",
       "    .dataframe tbody tr th {\n",
       "        vertical-align: top;\n",
       "    }\n",
       "\n",
       "    .dataframe thead th {\n",
       "        text-align: right;\n",
       "    }\n",
       "</style>\n",
       "<table border=\"1\" class=\"dataframe\">\n",
       "  <thead>\n",
       "    <tr style=\"text-align: right;\">\n",
       "      <th></th>\n",
       "      <th>кредитоспособность</th>\n",
       "      <th>возраст</th>\n",
       "      <th>срок сотрудничества</th>\n",
       "      <th>баланс</th>\n",
       "      <th>количесвто продуктов из банка</th>\n",
       "      <th>наличие кредитной карты</th>\n",
       "      <th>активность клиента в банке</th>\n",
       "      <th>доход клиента</th>\n",
       "      <th>отток</th>\n",
       "    </tr>\n",
       "  </thead>\n",
       "  <tbody>\n",
       "    <tr>\n",
       "      <th>count</th>\n",
       "      <td>10000.000000</td>\n",
       "      <td>10000.000000</td>\n",
       "      <td>10000.000000</td>\n",
       "      <td>10000.000000</td>\n",
       "      <td>10000.000000</td>\n",
       "      <td>10000.00000</td>\n",
       "      <td>10000.000000</td>\n",
       "      <td>10000.000000</td>\n",
       "      <td>10000.000000</td>\n",
       "    </tr>\n",
       "    <tr>\n",
       "      <th>mean</th>\n",
       "      <td>650.528800</td>\n",
       "      <td>38.921800</td>\n",
       "      <td>5.012800</td>\n",
       "      <td>76485.889288</td>\n",
       "      <td>1.530200</td>\n",
       "      <td>0.70550</td>\n",
       "      <td>0.515100</td>\n",
       "      <td>100090.239881</td>\n",
       "      <td>0.203700</td>\n",
       "    </tr>\n",
       "    <tr>\n",
       "      <th>std</th>\n",
       "      <td>96.653299</td>\n",
       "      <td>10.487806</td>\n",
       "      <td>2.892174</td>\n",
       "      <td>62397.405202</td>\n",
       "      <td>0.581654</td>\n",
       "      <td>0.45584</td>\n",
       "      <td>0.499797</td>\n",
       "      <td>57510.492818</td>\n",
       "      <td>0.402769</td>\n",
       "    </tr>\n",
       "    <tr>\n",
       "      <th>min</th>\n",
       "      <td>350.000000</td>\n",
       "      <td>18.000000</td>\n",
       "      <td>0.000000</td>\n",
       "      <td>0.000000</td>\n",
       "      <td>1.000000</td>\n",
       "      <td>0.00000</td>\n",
       "      <td>0.000000</td>\n",
       "      <td>11.580000</td>\n",
       "      <td>0.000000</td>\n",
       "    </tr>\n",
       "    <tr>\n",
       "      <th>25%</th>\n",
       "      <td>584.000000</td>\n",
       "      <td>32.000000</td>\n",
       "      <td>3.000000</td>\n",
       "      <td>0.000000</td>\n",
       "      <td>1.000000</td>\n",
       "      <td>0.00000</td>\n",
       "      <td>0.000000</td>\n",
       "      <td>51002.110000</td>\n",
       "      <td>0.000000</td>\n",
       "    </tr>\n",
       "    <tr>\n",
       "      <th>50%</th>\n",
       "      <td>652.000000</td>\n",
       "      <td>37.000000</td>\n",
       "      <td>5.000000</td>\n",
       "      <td>97198.540000</td>\n",
       "      <td>1.000000</td>\n",
       "      <td>1.00000</td>\n",
       "      <td>1.000000</td>\n",
       "      <td>100193.915000</td>\n",
       "      <td>0.000000</td>\n",
       "    </tr>\n",
       "    <tr>\n",
       "      <th>75%</th>\n",
       "      <td>718.000000</td>\n",
       "      <td>44.000000</td>\n",
       "      <td>7.000000</td>\n",
       "      <td>127644.240000</td>\n",
       "      <td>2.000000</td>\n",
       "      <td>1.00000</td>\n",
       "      <td>1.000000</td>\n",
       "      <td>149388.247500</td>\n",
       "      <td>0.000000</td>\n",
       "    </tr>\n",
       "    <tr>\n",
       "      <th>max</th>\n",
       "      <td>850.000000</td>\n",
       "      <td>92.000000</td>\n",
       "      <td>10.000000</td>\n",
       "      <td>250898.090000</td>\n",
       "      <td>4.000000</td>\n",
       "      <td>1.00000</td>\n",
       "      <td>1.000000</td>\n",
       "      <td>199992.480000</td>\n",
       "      <td>1.000000</td>\n",
       "    </tr>\n",
       "  </tbody>\n",
       "</table>\n",
       "</div>"
      ],
      "text/plain": [
       "       кредитоспособность       возраст  срок сотрудничества         баланс  \\\n",
       "count        10000.000000  10000.000000         10000.000000   10000.000000   \n",
       "mean           650.528800     38.921800             5.012800   76485.889288   \n",
       "std             96.653299     10.487806             2.892174   62397.405202   \n",
       "min            350.000000     18.000000             0.000000       0.000000   \n",
       "25%            584.000000     32.000000             3.000000       0.000000   \n",
       "50%            652.000000     37.000000             5.000000   97198.540000   \n",
       "75%            718.000000     44.000000             7.000000  127644.240000   \n",
       "max            850.000000     92.000000            10.000000  250898.090000   \n",
       "\n",
       "       количесвто продуктов из банка  наличие кредитной карты  \\\n",
       "count                   10000.000000              10000.00000   \n",
       "mean                        1.530200                  0.70550   \n",
       "std                         0.581654                  0.45584   \n",
       "min                         1.000000                  0.00000   \n",
       "25%                         1.000000                  0.00000   \n",
       "50%                         1.000000                  1.00000   \n",
       "75%                         2.000000                  1.00000   \n",
       "max                         4.000000                  1.00000   \n",
       "\n",
       "       активность клиента в банке  доход клиента         отток  \n",
       "count                10000.000000   10000.000000  10000.000000  \n",
       "mean                     0.515100  100090.239881      0.203700  \n",
       "std                      0.499797   57510.492818      0.402769  \n",
       "min                      0.000000      11.580000      0.000000  \n",
       "25%                      0.000000   51002.110000      0.000000  \n",
       "50%                      1.000000  100193.915000      0.000000  \n",
       "75%                      1.000000  149388.247500      0.000000  \n",
       "max                      1.000000  199992.480000      1.000000  "
      ]
     },
     "execution_count": 10,
     "metadata": {},
     "output_type": "execute_result"
    }
   ],
   "source": [
    "bank.describe() #теперь посмотрим на базовые статистики, которые пригодятся нам для дальнейшего анализа"
   ]
  },
  {
   "cell_type": "code",
   "execution_count": 11,
   "id": "836babe2",
   "metadata": {},
   "outputs": [
    {
     "name": "stderr",
     "output_type": "stream",
     "text": [
      "C:\\Users\\kolya\\AppData\\Local\\Temp\\ipykernel_31328\\2341184594.py:1: DeprecationWarning: `np.object` is a deprecated alias for the builtin `object`. To silence this warning, use `object` by itself. Doing this will not modify any behavior and is safe. \n",
      "Deprecated in NumPy 1.20; for more details and guidance: https://numpy.org/devdocs/release/1.20.0-notes.html#deprecations\n",
      "  bank.describe(include=[np.object])\n"
     ]
    },
    {
     "data": {
      "text/html": [
       "<div>\n",
       "<style scoped>\n",
       "    .dataframe tbody tr th:only-of-type {\n",
       "        vertical-align: middle;\n",
       "    }\n",
       "\n",
       "    .dataframe tbody tr th {\n",
       "        vertical-align: top;\n",
       "    }\n",
       "\n",
       "    .dataframe thead th {\n",
       "        text-align: right;\n",
       "    }\n",
       "</style>\n",
       "<table border=\"1\" class=\"dataframe\">\n",
       "  <thead>\n",
       "    <tr style=\"text-align: right;\">\n",
       "      <th></th>\n",
       "      <th>страна клиента</th>\n",
       "      <th>пол</th>\n",
       "    </tr>\n",
       "  </thead>\n",
       "  <tbody>\n",
       "    <tr>\n",
       "      <th>count</th>\n",
       "      <td>10000</td>\n",
       "      <td>10000</td>\n",
       "    </tr>\n",
       "    <tr>\n",
       "      <th>unique</th>\n",
       "      <td>3</td>\n",
       "      <td>2</td>\n",
       "    </tr>\n",
       "    <tr>\n",
       "      <th>top</th>\n",
       "      <td>France</td>\n",
       "      <td>Male</td>\n",
       "    </tr>\n",
       "    <tr>\n",
       "      <th>freq</th>\n",
       "      <td>5014</td>\n",
       "      <td>5457</td>\n",
       "    </tr>\n",
       "  </tbody>\n",
       "</table>\n",
       "</div>"
      ],
      "text/plain": [
       "       страна клиента    пол\n",
       "count           10000  10000\n",
       "unique              3      2\n",
       "top            France   Male\n",
       "freq             5014   5457"
      ]
     },
     "execution_count": 11,
     "metadata": {},
     "output_type": "execute_result"
    }
   ],
   "source": [
    "bank.describe(include=[np.object]) "
   ]
  },
  {
   "cell_type": "markdown",
   "id": "28b58585",
   "metadata": {},
   "source": [
    "Мы видим, что у нас всего три страны, больше всего клиентов из Франции, также в датасете больше мужчин, чем женщин."
   ]
  },
  {
   "cell_type": "markdown",
   "id": "69142755",
   "metadata": {},
   "source": [
    "Датасет содержит информацию о 10000 клиентах банка,далее более подробно посмотрим на наших клиентов."
   ]
  },
  {
   "cell_type": "code",
   "execution_count": 12,
   "id": "8a6028ac",
   "metadata": {},
   "outputs": [],
   "source": [
    "import seaborn as sns"
   ]
  },
  {
   "cell_type": "code",
   "execution_count": 13,
   "id": "acaab1e9",
   "metadata": {},
   "outputs": [
    {
     "data": {
      "text/plain": [
       "<AxesSubplot:xlabel='возраст', ylabel='Count'>"
      ]
     },
     "execution_count": 13,
     "metadata": {},
     "output_type": "execute_result"
    },
    {
     "data": {
      "image/png": "[encoded data removed]",
      "text/plain": [
       "<Figure size 432x288 with 1 Axes>"
      ]
     },
     "metadata": {
      "needs_background": "light"
     },
     "output_type": "display_data"
    }
   ],
   "source": [
    "sns.histplot(bank['возраст']) #датасет представлен людьми разных возрастов, средний возраст прмиерно 37 лет"
   ]
  },
  {
   "cell_type": "code",
   "execution_count": 14,
   "id": "d6043d8b",
   "metadata": {},
   "outputs": [
    {
     "data": {
      "image/png": "[encoded data removed]",
      "text/plain": [
       "<Figure size 432x288 with 1 Axes>"
      ]
     },
     "metadata": {
      "needs_background": "light"
     },
     "output_type": "display_data"
    }
   ],
   "source": [
    "plt.hist(x = bank['страна клиента'], bins = 5, color = 'green') \n",
    "#Большенство клиентов из Франции, количество клиентов из Испании и германии примерно на одном уровне\n",
    "plt.show()"
   ]
  },
  {
   "cell_type": "code",
   "execution_count": 15,
   "id": "a4a678cb",
   "metadata": {},
   "outputs": [
    {
     "data": {
      "image/png": "[encoded data removed]",
      "text/plain": [
       "<Figure size 432x288 with 1 Axes>"
      ]
     },
     "metadata": {
      "needs_background": "light"
     },
     "output_type": "display_data"
    }
   ],
   "source": [
    "plt.hist(x = bank['баланс'], bins = 9, color = 'green')\n",
    "plt.show() \n",
    "#Размер баланса также различается, интересно, что есть клиенты с 0 счетом"
   ]
  },
  {
   "cell_type": "code",
   "execution_count": 16,
   "id": "6c1baf41",
   "metadata": {},
   "outputs": [
    {
     "data": {
      "text/plain": [
       "0.0"
      ]
     },
     "execution_count": 16,
     "metadata": {},
     "output_type": "execute_result"
    }
   ],
   "source": [
    "bank['баланс'].min()"
   ]
  },
  {
   "cell_type": "code",
   "execution_count": 17,
   "id": "cdb039d2",
   "metadata": {},
   "outputs": [
    {
     "data": {
      "text/plain": [
       "250898.09"
      ]
     },
     "execution_count": 17,
     "metadata": {},
     "output_type": "execute_result"
    }
   ],
   "source": [
    "bank['баланс'].max()"
   ]
  },
  {
   "cell_type": "code",
   "execution_count": 18,
   "id": "696c9a7b",
   "metadata": {},
   "outputs": [
    {
     "data": {
      "text/plain": [
       "<AxesSubplot:xlabel='доход клиента', ylabel='Count'>"
      ]
     },
     "execution_count": 18,
     "metadata": {},
     "output_type": "execute_result"
    },
    {
     "data": {
      "image/png": "[encoded data removed]",
      "text/plain": [
       "<Figure size 432x288 with 1 Axes>"
      ]
     },
     "metadata": {
      "needs_background": "light"
     },
     "output_type": "display_data"
    }
   ],
   "source": [
    "sns.histplot(bank['доход клиента']) #посмотрим доход клиента с помощью гистограммы "
   ]
  },
  {
   "cell_type": "code",
   "execution_count": 19,
   "id": "87991ca0",
   "metadata": {},
   "outputs": [
    {
     "data": {
      "text/plain": [
       "11.58"
      ]
     },
     "execution_count": 19,
     "metadata": {},
     "output_type": "execute_result"
    }
   ],
   "source": [
    "bank['доход клиента'].min()"
   ]
  },
  {
   "cell_type": "code",
   "execution_count": 20,
   "id": "4044fad9",
   "metadata": {},
   "outputs": [
    {
     "data": {
      "text/plain": [
       "199992.48"
      ]
     },
     "execution_count": 20,
     "metadata": {},
     "output_type": "execute_result"
    }
   ],
   "source": [
    "bank['доход клиента'].max()"
   ]
  },
  {
   "cell_type": "markdown",
   "id": "4e87d3be",
   "metadata": {},
   "source": [
    "Доход клиентов тоже очень разный. Он варьируется от примерно 12 до 200000"
   ]
  },
  {
   "cell_type": "code",
   "execution_count": 21,
   "id": "e8090931",
   "metadata": {},
   "outputs": [
    {
     "data": {
      "text/plain": [
       "страна клиента\n",
       "France      62092.636516\n",
       "Germany    119730.116134\n",
       "Spain       61818.147763\n",
       "Name: баланс, dtype: float64"
      ]
     },
     "execution_count": 21,
     "metadata": {},
     "output_type": "execute_result"
    }
   ],
   "source": [
    "bank.groupby('страна клиента')['баланс'].mean() #в Германии средний размер баланса выше по сравнению с другими странами"
   ]
  },
  {
   "cell_type": "code",
   "execution_count": 22,
   "id": "2a9a9998",
   "metadata": {},
   "outputs": [
    {
     "data": {
      "text/plain": [
       "пол\n",
       "Female    4543\n",
       "Male      5457\n",
       "Name: наличие кредитной карты, dtype: int64"
      ]
     },
     "execution_count": 22,
     "metadata": {},
     "output_type": "execute_result"
    }
   ],
   "source": [
    "bank.groupby('пол')['наличие кредитной карты'].count() #чаще всего мужчины берут кредитные карты"
   ]
  },
  {
   "cell_type": "code",
   "execution_count": 23,
   "id": "0139ea3f",
   "metadata": {},
   "outputs": [
    {
     "data": {
      "text/plain": [
       "0    850\n",
       "Name: кредитоспособность, dtype: int64"
      ]
     },
     "execution_count": 23,
     "metadata": {},
     "output_type": "execute_result"
    }
   ],
   "source": [
    "bank['кредитоспособность'].mode() #чаще всего клиенты имеет наивысшую оценку кредитоспособности"
   ]
  },
  {
   "cell_type": "code",
   "execution_count": 24,
   "id": "a52be33e",
   "metadata": {},
   "outputs": [
    {
     "data": {
      "text/plain": [
       "2     1048\n",
       "1     1035\n",
       "7     1028\n",
       "8     1025\n",
       "5     1012\n",
       "3     1009\n",
       "4      989\n",
       "9      984\n",
       "6      967\n",
       "10     490\n",
       "0      413\n",
       "Name: срок сотрудничества, dtype: int64"
      ]
     },
     "execution_count": 24,
     "metadata": {},
     "output_type": "execute_result"
    }
   ],
   "source": [
    "bank['срок сотрудничества'].value_counts() #большенство клиентов сотрудничают с банком два года"
   ]
  },
  {
   "cell_type": "markdown",
   "id": "464409a6",
   "metadata": {},
   "source": [
    "Мы посмотрели на первичный анализ клиентов. Можно сразу сказать, что список клиентов очень разнообразный, есть люди разных возрастов и с разным доходом и размером счета."
   ]
  },
  {
   "cell_type": "markdown",
   "id": "afdaccf5",
   "metadata": {},
   "source": [
    "Один из ключевых показателей дтасета - это отток клиентов. Далее мы посмотрим на факторы, которые вероятнее всего повлияли на клиентов, которые решили прекратить сотрудничество с банком. В своем анализе датасета я решила сфокусироваться на оттоке клиентов банка и посмотреть, какие факторы могут на это влиять. Почему клиенты могут отказаться от услуг банка? Это может быть связано с возрастом, с наличием кредитной карты, балансом клиента и пр."
   ]
  },
  {
   "cell_type": "code",
   "execution_count": 25,
   "id": "8fcdb666",
   "metadata": {},
   "outputs": [
    {
     "data": {
      "text/html": [
       "<div>\n",
       "<style scoped>\n",
       "    .dataframe tbody tr th:only-of-type {\n",
       "        vertical-align: middle;\n",
       "    }\n",
       "\n",
       "    .dataframe tbody tr th {\n",
       "        vertical-align: top;\n",
       "    }\n",
       "\n",
       "    .dataframe thead th {\n",
       "        text-align: right;\n",
       "    }\n",
       "</style>\n",
       "<table border=\"1\" class=\"dataframe\">\n",
       "  <thead>\n",
       "    <tr style=\"text-align: right;\">\n",
       "      <th></th>\n",
       "      <th>кредитоспособность</th>\n",
       "      <th>возраст</th>\n",
       "      <th>срок сотрудничества</th>\n",
       "      <th>баланс</th>\n",
       "      <th>количесвто продуктов из банка</th>\n",
       "      <th>наличие кредитной карты</th>\n",
       "      <th>активность клиента в банке</th>\n",
       "      <th>доход клиента</th>\n",
       "      <th>отток</th>\n",
       "    </tr>\n",
       "  </thead>\n",
       "  <tbody>\n",
       "    <tr>\n",
       "      <th>кредитоспособность</th>\n",
       "      <td>1.000000</td>\n",
       "      <td>-0.003965</td>\n",
       "      <td>0.000842</td>\n",
       "      <td>0.006268</td>\n",
       "      <td>0.012238</td>\n",
       "      <td>-0.005458</td>\n",
       "      <td>0.025651</td>\n",
       "      <td>-0.001384</td>\n",
       "      <td>-0.027094</td>\n",
       "    </tr>\n",
       "    <tr>\n",
       "      <th>возраст</th>\n",
       "      <td>-0.003965</td>\n",
       "      <td>1.000000</td>\n",
       "      <td>-0.009997</td>\n",
       "      <td>0.028308</td>\n",
       "      <td>-0.030680</td>\n",
       "      <td>-0.011721</td>\n",
       "      <td>0.085472</td>\n",
       "      <td>-0.007201</td>\n",
       "      <td>0.285323</td>\n",
       "    </tr>\n",
       "    <tr>\n",
       "      <th>срок сотрудничества</th>\n",
       "      <td>0.000842</td>\n",
       "      <td>-0.009997</td>\n",
       "      <td>1.000000</td>\n",
       "      <td>-0.012254</td>\n",
       "      <td>0.013444</td>\n",
       "      <td>0.022583</td>\n",
       "      <td>-0.028362</td>\n",
       "      <td>0.007784</td>\n",
       "      <td>-0.014001</td>\n",
       "    </tr>\n",
       "    <tr>\n",
       "      <th>баланс</th>\n",
       "      <td>0.006268</td>\n",
       "      <td>0.028308</td>\n",
       "      <td>-0.012254</td>\n",
       "      <td>1.000000</td>\n",
       "      <td>-0.304180</td>\n",
       "      <td>-0.014858</td>\n",
       "      <td>-0.010084</td>\n",
       "      <td>0.012797</td>\n",
       "      <td>0.118533</td>\n",
       "    </tr>\n",
       "    <tr>\n",
       "      <th>количесвто продуктов из банка</th>\n",
       "      <td>0.012238</td>\n",
       "      <td>-0.030680</td>\n",
       "      <td>0.013444</td>\n",
       "      <td>-0.304180</td>\n",
       "      <td>1.000000</td>\n",
       "      <td>0.003183</td>\n",
       "      <td>0.009612</td>\n",
       "      <td>0.014204</td>\n",
       "      <td>-0.047820</td>\n",
       "    </tr>\n",
       "    <tr>\n",
       "      <th>наличие кредитной карты</th>\n",
       "      <td>-0.005458</td>\n",
       "      <td>-0.011721</td>\n",
       "      <td>0.022583</td>\n",
       "      <td>-0.014858</td>\n",
       "      <td>0.003183</td>\n",
       "      <td>1.000000</td>\n",
       "      <td>-0.011866</td>\n",
       "      <td>-0.009933</td>\n",
       "      <td>-0.007138</td>\n",
       "    </tr>\n",
       "    <tr>\n",
       "      <th>активность клиента в банке</th>\n",
       "      <td>0.025651</td>\n",
       "      <td>0.085472</td>\n",
       "      <td>-0.028362</td>\n",
       "      <td>-0.010084</td>\n",
       "      <td>0.009612</td>\n",
       "      <td>-0.011866</td>\n",
       "      <td>1.000000</td>\n",
       "      <td>-0.011421</td>\n",
       "      <td>-0.156128</td>\n",
       "    </tr>\n",
       "    <tr>\n",
       "      <th>доход клиента</th>\n",
       "      <td>-0.001384</td>\n",
       "      <td>-0.007201</td>\n",
       "      <td>0.007784</td>\n",
       "      <td>0.012797</td>\n",
       "      <td>0.014204</td>\n",
       "      <td>-0.009933</td>\n",
       "      <td>-0.011421</td>\n",
       "      <td>1.000000</td>\n",
       "      <td>0.012097</td>\n",
       "    </tr>\n",
       "    <tr>\n",
       "      <th>отток</th>\n",
       "      <td>-0.027094</td>\n",
       "      <td>0.285323</td>\n",
       "      <td>-0.014001</td>\n",
       "      <td>0.118533</td>\n",
       "      <td>-0.047820</td>\n",
       "      <td>-0.007138</td>\n",
       "      <td>-0.156128</td>\n",
       "      <td>0.012097</td>\n",
       "      <td>1.000000</td>\n",
       "    </tr>\n",
       "  </tbody>\n",
       "</table>\n",
       "</div>"
      ],
      "text/plain": [
       "                               кредитоспособность   возраст  \\\n",
       "кредитоспособность                       1.000000 -0.003965   \n",
       "возраст                                 -0.003965  1.000000   \n",
       "срок сотрудничества                      0.000842 -0.009997   \n",
       "баланс                                   0.006268  0.028308   \n",
       "количесвто продуктов из банка            0.012238 -0.030680   \n",
       "наличие кредитной карты                 -0.005458 -0.011721   \n",
       "активность клиента в банке               0.025651  0.085472   \n",
       "доход клиента                           -0.001384 -0.007201   \n",
       "отток                                   -0.027094  0.285323   \n",
       "\n",
       "                               срок сотрудничества    баланс  \\\n",
       "кредитоспособность                        0.000842  0.006268   \n",
       "возраст                                  -0.009997  0.028308   \n",
       "срок сотрудничества                       1.000000 -0.012254   \n",
       "баланс                                   -0.012254  1.000000   \n",
       "количесвто продуктов из банка             0.013444 -0.304180   \n",
       "наличие кредитной карты                   0.022583 -0.014858   \n",
       "активность клиента в банке               -0.028362 -0.010084   \n",
       "доход клиента                             0.007784  0.012797   \n",
       "отток                                    -0.014001  0.118533   \n",
       "\n",
       "                               количесвто продуктов из банка  \\\n",
       "кредитоспособность                                  0.012238   \n",
       "возраст                                            -0.030680   \n",
       "срок сотрудничества                                 0.013444   \n",
       "баланс                                             -0.304180   \n",
       "количесвто продуктов из банка                       1.000000   \n",
       "наличие кредитной карты                             0.003183   \n",
       "активность клиента в банке                          0.009612   \n",
       "доход клиента                                       0.014204   \n",
       "отток                                              -0.047820   \n",
       "\n",
       "                               наличие кредитной карты  \\\n",
       "кредитоспособность                           -0.005458   \n",
       "возраст                                      -0.011721   \n",
       "срок сотрудничества                           0.022583   \n",
       "баланс                                       -0.014858   \n",
       "количесвто продуктов из банка                 0.003183   \n",
       "наличие кредитной карты                       1.000000   \n",
       "активность клиента в банке                   -0.011866   \n",
       "доход клиента                                -0.009933   \n",
       "отток                                        -0.007138   \n",
       "\n",
       "                               активность клиента в банке  доход клиента  \\\n",
       "кредитоспособность                               0.025651      -0.001384   \n",
       "возраст                                          0.085472      -0.007201   \n",
       "срок сотрудничества                             -0.028362       0.007784   \n",
       "баланс                                          -0.010084       0.012797   \n",
       "количесвто продуктов из банка                    0.009612       0.014204   \n",
       "наличие кредитной карты                         -0.011866      -0.009933   \n",
       "активность клиента в банке                       1.000000      -0.011421   \n",
       "доход клиента                                   -0.011421       1.000000   \n",
       "отток                                           -0.156128       0.012097   \n",
       "\n",
       "                                  отток  \n",
       "кредитоспособность            -0.027094  \n",
       "возраст                        0.285323  \n",
       "срок сотрудничества           -0.014001  \n",
       "баланс                         0.118533  \n",
       "количесвто продуктов из банка -0.047820  \n",
       "наличие кредитной карты       -0.007138  \n",
       "активность клиента в банке    -0.156128  \n",
       "доход клиента                  0.012097  \n",
       "отток                          1.000000  "
      ]
     },
     "execution_count": 25,
     "metadata": {},
     "output_type": "execute_result"
    }
   ],
   "source": [
    "bank.corr() #проверим корреляцию данных "
   ]
  },
  {
   "cell_type": "code",
   "execution_count": 26,
   "id": "e93d5920",
   "metadata": {},
   "outputs": [],
   "source": [
    "cols_num = ['кредитоспособность', 'возраст', 'срок сотрудничества', 'баланс', 'количесвто продуктов из банка', \n",
    "            'наличие кредитной карты', 'активность клиента в банке', 'отток']"
   ]
  },
  {
   "cell_type": "code",
   "execution_count": 27,
   "id": "1b3dc804",
   "metadata": {},
   "outputs": [],
   "source": [
    "correlation = bank.corr().loc[cols_num, cols_num]"
   ]
  },
  {
   "cell_type": "code",
   "execution_count": 28,
   "id": "aeda7b01",
   "metadata": {},
   "outputs": [
    {
     "data": {
      "text/plain": [
       "<AxesSubplot:>"
      ]
     },
     "execution_count": 28,
     "metadata": {},
     "output_type": "execute_result"
    },
    {
     "data": {
      "image/png": "[encoded data removed]",
      "text/plain": [
       "<Figure size 1008x864 with 2 Axes>"
      ]
     },
     "metadata": {
      "needs_background": "light"
     },
     "output_type": "display_data"
    }
   ],
   "source": [
    "fig , ax = plt.subplots(figsize = (14,12))\n",
    "\n",
    "sns.heatmap(correlation, \n",
    "            linewidths=0.5, annot=True,cmap='viridis',\n",
    "            linecolor=\"white\", annot_kws = {'size':12}) #тепловая карта для наглядности"
   ]
  },
  {
   "cell_type": "markdown",
   "id": "e2d8df1d",
   "metadata": {},
   "source": [
    "Таким образом мы можем оценить взаимосвязь данных и выдвинуть гипотезы, что могли повлиять на отток клиентов.\n",
    "\n",
    "В данном случае нас интересует переменная \"отток\", мы видим, что слабая корреяционная связь с кредитоспособностью, сроком сотрудничества с банком, наличием кредитной карты. Можно проследить взаимосвязь оттока с балансом и возрастом.  "
   ]
  },
  {
   "cell_type": "code",
   "execution_count": 29,
   "id": "9c78ba17",
   "metadata": {},
   "outputs": [
    {
     "data": {
      "text/plain": [
       "0    7963\n",
       "1    2037\n",
       "Name: отток, dtype: int64"
      ]
     },
     "execution_count": 29,
     "metadata": {},
     "output_type": "execute_result"
    }
   ],
   "source": [
    "bank['отток'].value_counts() #всего банк покинули 2037 клиентов и 10000"
   ]
  },
  {
   "cell_type": "code",
   "execution_count": 30,
   "id": "1bd29180",
   "metadata": {},
   "outputs": [
    {
     "data": {
      "image/png": "[encoded data removed]",
      "text/plain": [
       "<Figure size 432x288 with 1 Axes>"
      ]
     },
     "metadata": {
      "needs_background": "light"
     },
     "output_type": "display_data"
    }
   ],
   "source": [
    "sns.barplot(x=bank['отток'].value_counts().index, y=bank['отток'].value_counts())\n",
    "plt.show() #соотношение ушедших клиентов банка к оставшимся с столбчатой диаграмме "
   ]
  },
  {
   "cell_type": "code",
   "execution_count": 31,
   "id": "d922fb48",
   "metadata": {},
   "outputs": [
    {
     "data": {
      "text/plain": [
       "20.37"
      ]
     },
     "execution_count": 31,
     "metadata": {},
     "output_type": "execute_result"
    }
   ],
   "source": [
    "churn_percentage = 2037 * 100 / 10000 #определили процент оттока, который составил примерно 20%\n",
    "churn_percentage"
   ]
  },
  {
   "cell_type": "markdown",
   "id": "5b0f01d0",
   "metadata": {},
   "source": [
    "Итак, с чем же может быть связан отток клиента? Например, кажется, что чем активнее клиент банка, тем меньше вероятность, что он покинет банк. Так ли это?"
   ]
  },
  {
   "cell_type": "code",
   "execution_count": 32,
   "id": "d8e2755d",
   "metadata": {},
   "outputs": [
    {
     "data": {
      "text/plain": [
       "<AxesSubplot:xlabel='активность клиента в банке'>"
      ]
     },
     "execution_count": 32,
     "metadata": {},
     "output_type": "execute_result"
    },
    {
     "data": {
      "image/png": "[encoded data removed]",
      "text/plain": [
       "<Figure size 432x288 with 1 Axes>"
      ]
     },
     "metadata": {
      "needs_background": "light"
     },
     "output_type": "display_data"
    }
   ],
   "source": [
    "bank.groupby('активность клиента в банке')['отток'].value_counts().unstack().plot(kind='bar')"
   ]
  },
  {
   "cell_type": "markdown",
   "id": "ce1897e7",
   "metadata": {},
   "source": [
    "На графике видно, что неактивные клиенты покидают компанию чаще (практически в полтора раза), чем клиенты, которые активно взаимодействуют с банком. то делает клиента активным? Его взаимодействие с мобильным приложением банка, готовность клиента коммуницировать с сотрудниками банка, лушать о новых преимуществах и возможностях. Мы видим, что клиенты, которым не интересны такие взаиодействия - уходят. Возможно банку стоит усовершенствовать приложение или как-то напомнить о себе уже для текущих клиентов.\n",
    "\n",
    "Одна из моих гипотиз - это то, что клиенты реже уходят из банка, если у них есть кредитная карта. Проверим, так ли это"
   ]
  },
  {
   "cell_type": "code",
   "execution_count": 33,
   "id": "89e99e3f",
   "metadata": {},
   "outputs": [
    {
     "data": {
      "text/plain": [
       "<AxesSubplot:xlabel='наличие кредитной карты'>"
      ]
     },
     "execution_count": 33,
     "metadata": {},
     "output_type": "execute_result"
    },
    {
     "data": {
      "image/png": "[encoded data removed]",
      "text/plain": [
       "<Figure size 432x288 with 1 Axes>"
      ]
     },
     "metadata": {
      "needs_background": "light"
     },
     "output_type": "display_data"
    }
   ],
   "source": [
    "bank.groupby('наличие кредитной карты')['отток'].value_counts().unstack().plot(kind='bar')"
   ]
  },
  {
   "cell_type": "code",
   "execution_count": 34,
   "id": "21c8943e",
   "metadata": {},
   "outputs": [
    {
     "data": {
      "text/plain": [
       "<AxesSubplot:xlabel='наличие кредитной карты', ylabel='Count'>"
      ]
     },
     "execution_count": 34,
     "metadata": {},
     "output_type": "execute_result"
    },
    {
     "data": {
      "image/png": "[encoded data removed]",
      "text/plain": [
       "<Figure size 432x288 with 1 Axes>"
      ]
     },
     "metadata": {
      "needs_background": "light"
     },
     "output_type": "display_data"
    }
   ],
   "source": [
    "sns.histplot(bank[bank['отток']== 1]['наличие кредитной карты'], kde=True)"
   ]
  },
  {
   "cell_type": "markdown",
   "id": "a3f28eba",
   "metadata": {},
   "source": [
    "Интересно, что клиенты, имеющие кредитную карту тоже уходят. Навеное, другие банки предлагают более выгодные условия. Однако нельзя сказать, что это слишком большой процент. \n",
    "\n",
    "Грубо говоря, наших клиентов можно разделить на тех, кто покинул банк и на тех, кто продолжает пользоваться его услугами. Мы можем подробнее изучить тех, кто решил оставить банк."
   ]
  },
  {
   "cell_type": "code",
   "execution_count": 35,
   "id": "d29c94ff",
   "metadata": {},
   "outputs": [
    {
     "data": {
      "text/html": [
       "<div>\n",
       "<style scoped>\n",
       "    .dataframe tbody tr th:only-of-type {\n",
       "        vertical-align: middle;\n",
       "    }\n",
       "\n",
       "    .dataframe tbody tr th {\n",
       "        vertical-align: top;\n",
       "    }\n",
       "\n",
       "    .dataframe thead th {\n",
       "        text-align: right;\n",
       "    }\n",
       "</style>\n",
       "<table border=\"1\" class=\"dataframe\">\n",
       "  <thead>\n",
       "    <tr style=\"text-align: right;\">\n",
       "      <th></th>\n",
       "      <th>кредитоспособность</th>\n",
       "      <th>возраст</th>\n",
       "      <th>срок сотрудничества</th>\n",
       "      <th>баланс</th>\n",
       "      <th>количесвто продуктов из банка</th>\n",
       "      <th>наличие кредитной карты</th>\n",
       "      <th>активность клиента в банке</th>\n",
       "      <th>доход клиента</th>\n",
       "      <th>отток</th>\n",
       "    </tr>\n",
       "  </thead>\n",
       "  <tbody>\n",
       "    <tr>\n",
       "      <th>count</th>\n",
       "      <td>2037.000000</td>\n",
       "      <td>2037.000000</td>\n",
       "      <td>2037.000000</td>\n",
       "      <td>2037.000000</td>\n",
       "      <td>2037.000000</td>\n",
       "      <td>2037.000000</td>\n",
       "      <td>2037.000000</td>\n",
       "      <td>2037.000000</td>\n",
       "      <td>2037.0</td>\n",
       "    </tr>\n",
       "    <tr>\n",
       "      <th>mean</th>\n",
       "      <td>645.351497</td>\n",
       "      <td>44.837997</td>\n",
       "      <td>4.932744</td>\n",
       "      <td>91108.539337</td>\n",
       "      <td>1.475209</td>\n",
       "      <td>0.699067</td>\n",
       "      <td>0.360825</td>\n",
       "      <td>101465.677531</td>\n",
       "      <td>1.0</td>\n",
       "    </tr>\n",
       "    <tr>\n",
       "      <th>std</th>\n",
       "      <td>100.321503</td>\n",
       "      <td>9.761562</td>\n",
       "      <td>2.936106</td>\n",
       "      <td>58360.794816</td>\n",
       "      <td>0.801521</td>\n",
       "      <td>0.458776</td>\n",
       "      <td>0.480358</td>\n",
       "      <td>57912.418071</td>\n",
       "      <td>0.0</td>\n",
       "    </tr>\n",
       "    <tr>\n",
       "      <th>min</th>\n",
       "      <td>350.000000</td>\n",
       "      <td>18.000000</td>\n",
       "      <td>0.000000</td>\n",
       "      <td>0.000000</td>\n",
       "      <td>1.000000</td>\n",
       "      <td>0.000000</td>\n",
       "      <td>0.000000</td>\n",
       "      <td>11.580000</td>\n",
       "      <td>1.0</td>\n",
       "    </tr>\n",
       "    <tr>\n",
       "      <th>25%</th>\n",
       "      <td>578.000000</td>\n",
       "      <td>38.000000</td>\n",
       "      <td>2.000000</td>\n",
       "      <td>38340.020000</td>\n",
       "      <td>1.000000</td>\n",
       "      <td>0.000000</td>\n",
       "      <td>0.000000</td>\n",
       "      <td>51907.720000</td>\n",
       "      <td>1.0</td>\n",
       "    </tr>\n",
       "    <tr>\n",
       "      <th>50%</th>\n",
       "      <td>646.000000</td>\n",
       "      <td>45.000000</td>\n",
       "      <td>5.000000</td>\n",
       "      <td>109349.290000</td>\n",
       "      <td>1.000000</td>\n",
       "      <td>1.000000</td>\n",
       "      <td>0.000000</td>\n",
       "      <td>102460.840000</td>\n",
       "      <td>1.0</td>\n",
       "    </tr>\n",
       "    <tr>\n",
       "      <th>75%</th>\n",
       "      <td>716.000000</td>\n",
       "      <td>51.000000</td>\n",
       "      <td>8.000000</td>\n",
       "      <td>131433.330000</td>\n",
       "      <td>2.000000</td>\n",
       "      <td>1.000000</td>\n",
       "      <td>1.000000</td>\n",
       "      <td>152422.910000</td>\n",
       "      <td>1.0</td>\n",
       "    </tr>\n",
       "    <tr>\n",
       "      <th>max</th>\n",
       "      <td>850.000000</td>\n",
       "      <td>84.000000</td>\n",
       "      <td>10.000000</td>\n",
       "      <td>250898.090000</td>\n",
       "      <td>4.000000</td>\n",
       "      <td>1.000000</td>\n",
       "      <td>1.000000</td>\n",
       "      <td>199808.100000</td>\n",
       "      <td>1.0</td>\n",
       "    </tr>\n",
       "  </tbody>\n",
       "</table>\n",
       "</div>"
      ],
      "text/plain": [
       "       кредитоспособность      возраст  срок сотрудничества         баланс  \\\n",
       "count         2037.000000  2037.000000          2037.000000    2037.000000   \n",
       "mean           645.351497    44.837997             4.932744   91108.539337   \n",
       "std            100.321503     9.761562             2.936106   58360.794816   \n",
       "min            350.000000    18.000000             0.000000       0.000000   \n",
       "25%            578.000000    38.000000             2.000000   38340.020000   \n",
       "50%            646.000000    45.000000             5.000000  109349.290000   \n",
       "75%            716.000000    51.000000             8.000000  131433.330000   \n",
       "max            850.000000    84.000000            10.000000  250898.090000   \n",
       "\n",
       "       количесвто продуктов из банка  наличие кредитной карты  \\\n",
       "count                    2037.000000              2037.000000   \n",
       "mean                        1.475209                 0.699067   \n",
       "std                         0.801521                 0.458776   \n",
       "min                         1.000000                 0.000000   \n",
       "25%                         1.000000                 0.000000   \n",
       "50%                         1.000000                 1.000000   \n",
       "75%                         2.000000                 1.000000   \n",
       "max                         4.000000                 1.000000   \n",
       "\n",
       "       активность клиента в банке  доход клиента   отток  \n",
       "count                 2037.000000    2037.000000  2037.0  \n",
       "mean                     0.360825  101465.677531     1.0  \n",
       "std                      0.480358   57912.418071     0.0  \n",
       "min                      0.000000      11.580000     1.0  \n",
       "25%                      0.000000   51907.720000     1.0  \n",
       "50%                      0.000000  102460.840000     1.0  \n",
       "75%                      1.000000  152422.910000     1.0  \n",
       "max                      1.000000  199808.100000     1.0  "
      ]
     },
     "execution_count": 35,
     "metadata": {},
     "output_type": "execute_result"
    }
   ],
   "source": [
    "left_bank = bank[bank['отток'] == 1]\n",
    "left_bank.describe() #left_bank - выделим людей, которые ушли из банка"
   ]
  },
  {
   "cell_type": "code",
   "execution_count": 36,
   "id": "0202e2e0",
   "metadata": {},
   "outputs": [
    {
     "data": {
      "text/html": [
       "<div>\n",
       "<style scoped>\n",
       "    .dataframe tbody tr th:only-of-type {\n",
       "        vertical-align: middle;\n",
       "    }\n",
       "\n",
       "    .dataframe tbody tr th {\n",
       "        vertical-align: top;\n",
       "    }\n",
       "\n",
       "    .dataframe thead th {\n",
       "        text-align: right;\n",
       "    }\n",
       "</style>\n",
       "<table border=\"1\" class=\"dataframe\">\n",
       "  <thead>\n",
       "    <tr style=\"text-align: right;\">\n",
       "      <th></th>\n",
       "      <th>кредитоспособность</th>\n",
       "      <th>возраст</th>\n",
       "      <th>срок сотрудничества</th>\n",
       "      <th>баланс</th>\n",
       "      <th>количесвто продуктов из банка</th>\n",
       "      <th>наличие кредитной карты</th>\n",
       "      <th>активность клиента в банке</th>\n",
       "      <th>доход клиента</th>\n",
       "      <th>отток</th>\n",
       "    </tr>\n",
       "  </thead>\n",
       "  <tbody>\n",
       "    <tr>\n",
       "      <th>count</th>\n",
       "      <td>7963.000000</td>\n",
       "      <td>7963.000000</td>\n",
       "      <td>7963.000000</td>\n",
       "      <td>7963.000000</td>\n",
       "      <td>7963.000000</td>\n",
       "      <td>7963.000000</td>\n",
       "      <td>7963.000000</td>\n",
       "      <td>7963.000000</td>\n",
       "      <td>7963.0</td>\n",
       "    </tr>\n",
       "    <tr>\n",
       "      <th>mean</th>\n",
       "      <td>651.853196</td>\n",
       "      <td>37.408389</td>\n",
       "      <td>5.033279</td>\n",
       "      <td>72745.296779</td>\n",
       "      <td>1.544267</td>\n",
       "      <td>0.707146</td>\n",
       "      <td>0.554565</td>\n",
       "      <td>99738.391772</td>\n",
       "      <td>0.0</td>\n",
       "    </tr>\n",
       "    <tr>\n",
       "      <th>std</th>\n",
       "      <td>95.653837</td>\n",
       "      <td>10.125363</td>\n",
       "      <td>2.880658</td>\n",
       "      <td>62848.040701</td>\n",
       "      <td>0.509536</td>\n",
       "      <td>0.455101</td>\n",
       "      <td>0.497045</td>\n",
       "      <td>57405.586966</td>\n",
       "      <td>0.0</td>\n",
       "    </tr>\n",
       "    <tr>\n",
       "      <th>min</th>\n",
       "      <td>405.000000</td>\n",
       "      <td>18.000000</td>\n",
       "      <td>0.000000</td>\n",
       "      <td>0.000000</td>\n",
       "      <td>1.000000</td>\n",
       "      <td>0.000000</td>\n",
       "      <td>0.000000</td>\n",
       "      <td>90.070000</td>\n",
       "      <td>0.0</td>\n",
       "    </tr>\n",
       "    <tr>\n",
       "      <th>25%</th>\n",
       "      <td>585.000000</td>\n",
       "      <td>31.000000</td>\n",
       "      <td>3.000000</td>\n",
       "      <td>0.000000</td>\n",
       "      <td>1.000000</td>\n",
       "      <td>0.000000</td>\n",
       "      <td>0.000000</td>\n",
       "      <td>50783.490000</td>\n",
       "      <td>0.0</td>\n",
       "    </tr>\n",
       "    <tr>\n",
       "      <th>50%</th>\n",
       "      <td>653.000000</td>\n",
       "      <td>36.000000</td>\n",
       "      <td>5.000000</td>\n",
       "      <td>92072.680000</td>\n",
       "      <td>2.000000</td>\n",
       "      <td>1.000000</td>\n",
       "      <td>1.000000</td>\n",
       "      <td>99645.040000</td>\n",
       "      <td>0.0</td>\n",
       "    </tr>\n",
       "    <tr>\n",
       "      <th>75%</th>\n",
       "      <td>718.000000</td>\n",
       "      <td>41.000000</td>\n",
       "      <td>7.000000</td>\n",
       "      <td>126410.280000</td>\n",
       "      <td>2.000000</td>\n",
       "      <td>1.000000</td>\n",
       "      <td>1.000000</td>\n",
       "      <td>148609.955000</td>\n",
       "      <td>0.0</td>\n",
       "    </tr>\n",
       "    <tr>\n",
       "      <th>max</th>\n",
       "      <td>850.000000</td>\n",
       "      <td>92.000000</td>\n",
       "      <td>10.000000</td>\n",
       "      <td>221532.800000</td>\n",
       "      <td>3.000000</td>\n",
       "      <td>1.000000</td>\n",
       "      <td>1.000000</td>\n",
       "      <td>199992.480000</td>\n",
       "      <td>0.0</td>\n",
       "    </tr>\n",
       "  </tbody>\n",
       "</table>\n",
       "</div>"
      ],
      "text/plain": [
       "       кредитоспособность      возраст  срок сотрудничества         баланс  \\\n",
       "count         7963.000000  7963.000000          7963.000000    7963.000000   \n",
       "mean           651.853196    37.408389             5.033279   72745.296779   \n",
       "std             95.653837    10.125363             2.880658   62848.040701   \n",
       "min            405.000000    18.000000             0.000000       0.000000   \n",
       "25%            585.000000    31.000000             3.000000       0.000000   \n",
       "50%            653.000000    36.000000             5.000000   92072.680000   \n",
       "75%            718.000000    41.000000             7.000000  126410.280000   \n",
       "max            850.000000    92.000000            10.000000  221532.800000   \n",
       "\n",
       "       количесвто продуктов из банка  наличие кредитной карты  \\\n",
       "count                    7963.000000              7963.000000   \n",
       "mean                        1.544267                 0.707146   \n",
       "std                         0.509536                 0.455101   \n",
       "min                         1.000000                 0.000000   \n",
       "25%                         1.000000                 0.000000   \n",
       "50%                         2.000000                 1.000000   \n",
       "75%                         2.000000                 1.000000   \n",
       "max                         3.000000                 1.000000   \n",
       "\n",
       "       активность клиента в банке  доход клиента   отток  \n",
       "count                 7963.000000    7963.000000  7963.0  \n",
       "mean                     0.554565   99738.391772     0.0  \n",
       "std                      0.497045   57405.586966     0.0  \n",
       "min                      0.000000      90.070000     0.0  \n",
       "25%                      0.000000   50783.490000     0.0  \n",
       "50%                      1.000000   99645.040000     0.0  \n",
       "75%                      1.000000  148609.955000     0.0  \n",
       "max                      1.000000  199992.480000     0.0  "
      ]
     },
     "execution_count": 36,
     "metadata": {},
     "output_type": "execute_result"
    }
   ],
   "source": [
    "stayed_at_bank = bank[bank['отток'] == 0]\n",
    "stayed_at_bank.describe() #stayed_at_bank - текущие клиенты банка"
   ]
  },
  {
   "cell_type": "markdown",
   "id": "a585d504",
   "metadata": {},
   "source": [
    "Мы разделили клиентов на тех, кто остался в банке (stayed_at_bank) и покинул его (left_bank). Теперь мы можем подробнее узнать о факторах, которые могла повляить на те или иные группы клиентов. Например, посмотрим на их возраст."
   ]
  },
  {
   "cell_type": "code",
   "execution_count": 37,
   "id": "e82b9513",
   "metadata": {},
   "outputs": [
    {
     "data": {
      "text/plain": [
       "44.8379970544919"
      ]
     },
     "execution_count": 37,
     "metadata": {},
     "output_type": "execute_result"
    }
   ],
   "source": [
    "left_bank['возраст'].mean() #средний возраст ушедших клиентов"
   ]
  },
  {
   "cell_type": "code",
   "execution_count": 38,
   "id": "8ff95ae3",
   "metadata": {},
   "outputs": [
    {
     "data": {
      "text/plain": [
       "<AxesSubplot:>"
      ]
     },
     "execution_count": 38,
     "metadata": {},
     "output_type": "execute_result"
    },
    {
     "data": {
      "image/png": "[encoded data removed]",
      "text/plain": [
       "<Figure size 432x288 with 1 Axes>"
      ]
     },
     "metadata": {
      "needs_background": "light"
     },
     "output_type": "display_data"
    }
   ],
   "source": [
    "left_bank['возраст'].hist()"
   ]
  },
  {
   "cell_type": "code",
   "execution_count": 39,
   "id": "01970a83",
   "metadata": {},
   "outputs": [
    {
     "data": {
      "text/plain": [
       "37.40838879819164"
      ]
     },
     "execution_count": 39,
     "metadata": {},
     "output_type": "execute_result"
    }
   ],
   "source": [
    "stayed_at_bank['возраст'].mean() #средний возраст оставшихся клиентов"
   ]
  },
  {
   "cell_type": "code",
   "execution_count": 40,
   "id": "040e0b36",
   "metadata": {},
   "outputs": [
    {
     "data": {
      "text/plain": [
       "<AxesSubplot:>"
      ]
     },
     "execution_count": 40,
     "metadata": {},
     "output_type": "execute_result"
    },
    {
     "data": {
      "image/png": "[encoded data removed]",
      "text/plain": [
       "<Figure size 432x288 with 1 Axes>"
      ]
     },
     "metadata": {
      "needs_background": "light"
     },
     "output_type": "display_data"
    }
   ],
   "source": [
    "stayed_at_bank['возраст'].hist()"
   ]
  },
  {
   "cell_type": "markdown",
   "id": "2b0c104a",
   "metadata": {},
   "source": [
    "Таким образом, мы сравнили возраст клиентов. Мы видим, что чаще всего банк покидают люди старше 40 лет. Это интересно, обычно, чем человек становится страше, тем ему больше хочется стабильности в жизни, особенно, если это связано с финансовыми вопросами. Это может быть связано с тем, что банк больше сфокусирован на молодой аудитории и не разрабатывает никаких кастомизированных предложений для людей старше."
   ]
  },
  {
   "cell_type": "code",
   "execution_count": 41,
   "id": "4c083fe1",
   "metadata": {},
   "outputs": [
    {
     "data": {
      "text/plain": [
       "<AxesSubplot:xlabel='возраст', ylabel='Count'>"
      ]
     },
     "execution_count": 41,
     "metadata": {},
     "output_type": "execute_result"
    },
    {
     "data": {
      "image/png": "[encoded data removed]",
      "text/plain": [
       "<Figure size 432x288 with 1 Axes>"
      ]
     },
     "metadata": {
      "needs_background": "light"
     },
     "output_type": "display_data"
    }
   ],
   "source": [
    "sns.histplot(bank[bank['отток']== 1]['возраст'], kde=True) #соотношение ушедших клиентов и их возраста"
   ]
  },
  {
   "cell_type": "markdown",
   "id": "61733e3d",
   "metadata": {},
   "source": [
    "Кредитоспособность выражается в оценнке возможности клиента погасить кредит, она варьируется от 300-850. С помощью стандартизированной оценки мы можем оценить меру разброса скоринга для оставшихся и ушедших клиентов."
   ]
  },
  {
   "cell_type": "code",
   "execution_count": 42,
   "id": "a227763a",
   "metadata": {},
   "outputs": [],
   "source": [
    "import scipy.stats"
   ]
  },
  {
   "cell_type": "code",
   "execution_count": 43,
   "id": "ddb86915",
   "metadata": {},
   "outputs": [
    {
     "name": "stderr",
     "output_type": "stream",
     "text": [
      "C:\\Users\\kolya\\AppData\\Local\\Temp\\ipykernel_31328\\2278909516.py:1: SettingWithCopyWarning: \n",
      "A value is trying to be set on a copy of a slice from a DataFrame.\n",
      "Try using .loc[row_indexer,col_indexer] = value instead\n",
      "\n",
      "See the caveats in the documentation: https://pandas.pydata.org/pandas-docs/stable/user_guide/indexing.html#returning-a-view-versus-a-copy\n",
      "  left_bank['z-score'] = scipy.stats.zscore(left_bank['кредитоспособность'])\n"
     ]
    }
   ],
   "source": [
    "left_bank['z-score'] = scipy.stats.zscore(left_bank['кредитоспособность'])"
   ]
  },
  {
   "cell_type": "code",
   "execution_count": 44,
   "id": "697b4b01",
   "metadata": {},
   "outputs": [
    {
     "data": {
      "text/html": [
       "<div>\n",
       "<style scoped>\n",
       "    .dataframe tbody tr th:only-of-type {\n",
       "        vertical-align: middle;\n",
       "    }\n",
       "\n",
       "    .dataframe tbody tr th {\n",
       "        vertical-align: top;\n",
       "    }\n",
       "\n",
       "    .dataframe thead th {\n",
       "        text-align: right;\n",
       "    }\n",
       "</style>\n",
       "<table border=\"1\" class=\"dataframe\">\n",
       "  <thead>\n",
       "    <tr style=\"text-align: right;\">\n",
       "      <th></th>\n",
       "      <th>кредитоспособность</th>\n",
       "      <th>страна клиента</th>\n",
       "      <th>пол</th>\n",
       "      <th>возраст</th>\n",
       "      <th>срок сотрудничества</th>\n",
       "      <th>баланс</th>\n",
       "      <th>количесвто продуктов из банка</th>\n",
       "      <th>наличие кредитной карты</th>\n",
       "      <th>активность клиента в банке</th>\n",
       "      <th>доход клиента</th>\n",
       "      <th>отток</th>\n",
       "      <th>z-score</th>\n",
       "    </tr>\n",
       "  </thead>\n",
       "  <tbody>\n",
       "    <tr>\n",
       "      <th>0</th>\n",
       "      <td>619</td>\n",
       "      <td>France</td>\n",
       "      <td>Female</td>\n",
       "      <td>42</td>\n",
       "      <td>2</td>\n",
       "      <td>0.00</td>\n",
       "      <td>1</td>\n",
       "      <td>1</td>\n",
       "      <td>1</td>\n",
       "      <td>101348.88</td>\n",
       "      <td>1</td>\n",
       "      <td>-0.262735</td>\n",
       "    </tr>\n",
       "    <tr>\n",
       "      <th>2</th>\n",
       "      <td>502</td>\n",
       "      <td>France</td>\n",
       "      <td>Female</td>\n",
       "      <td>42</td>\n",
       "      <td>8</td>\n",
       "      <td>159660.80</td>\n",
       "      <td>3</td>\n",
       "      <td>1</td>\n",
       "      <td>0</td>\n",
       "      <td>113931.57</td>\n",
       "      <td>1</td>\n",
       "      <td>-1.429272</td>\n",
       "    </tr>\n",
       "    <tr>\n",
       "      <th>5</th>\n",
       "      <td>645</td>\n",
       "      <td>Spain</td>\n",
       "      <td>Male</td>\n",
       "      <td>44</td>\n",
       "      <td>8</td>\n",
       "      <td>113755.78</td>\n",
       "      <td>2</td>\n",
       "      <td>1</td>\n",
       "      <td>0</td>\n",
       "      <td>149756.71</td>\n",
       "      <td>1</td>\n",
       "      <td>-0.003505</td>\n",
       "    </tr>\n",
       "    <tr>\n",
       "      <th>7</th>\n",
       "      <td>376</td>\n",
       "      <td>Germany</td>\n",
       "      <td>Female</td>\n",
       "      <td>29</td>\n",
       "      <td>4</td>\n",
       "      <td>115046.74</td>\n",
       "      <td>4</td>\n",
       "      <td>1</td>\n",
       "      <td>0</td>\n",
       "      <td>119346.88</td>\n",
       "      <td>1</td>\n",
       "      <td>-2.685542</td>\n",
       "    </tr>\n",
       "    <tr>\n",
       "      <th>16</th>\n",
       "      <td>653</td>\n",
       "      <td>Germany</td>\n",
       "      <td>Male</td>\n",
       "      <td>58</td>\n",
       "      <td>1</td>\n",
       "      <td>132602.88</td>\n",
       "      <td>1</td>\n",
       "      <td>1</td>\n",
       "      <td>0</td>\n",
       "      <td>5097.67</td>\n",
       "      <td>1</td>\n",
       "      <td>0.076259</td>\n",
       "    </tr>\n",
       "  </tbody>\n",
       "</table>\n",
       "</div>"
      ],
      "text/plain": [
       "    кредитоспособность страна клиента     пол  возраст  срок сотрудничества  \\\n",
       "0                  619         France  Female       42                    2   \n",
       "2                  502         France  Female       42                    8   \n",
       "5                  645          Spain    Male       44                    8   \n",
       "7                  376        Germany  Female       29                    4   \n",
       "16                 653        Germany    Male       58                    1   \n",
       "\n",
       "       баланс  количесвто продуктов из банка  наличие кредитной карты  \\\n",
       "0        0.00                              1                        1   \n",
       "2   159660.80                              3                        1   \n",
       "5   113755.78                              2                        1   \n",
       "7   115046.74                              4                        1   \n",
       "16  132602.88                              1                        1   \n",
       "\n",
       "    активность клиента в банке  доход клиента  отток   z-score  \n",
       "0                            1      101348.88      1 -0.262735  \n",
       "2                            0      113931.57      1 -1.429272  \n",
       "5                            0      149756.71      1 -0.003505  \n",
       "7                            0      119346.88      1 -2.685542  \n",
       "16                           0        5097.67      1  0.076259  "
      ]
     },
     "execution_count": 44,
     "metadata": {},
     "output_type": "execute_result"
    }
   ],
   "source": [
    "left_bank.head()"
   ]
  },
  {
   "cell_type": "code",
   "execution_count": 45,
   "id": "ce15ee93",
   "metadata": {},
   "outputs": [
    {
     "name": "stderr",
     "output_type": "stream",
     "text": [
      "C:\\Users\\kolya\\AppData\\Local\\Temp\\ipykernel_31328\\1058107793.py:1: SettingWithCopyWarning: \n",
      "A value is trying to be set on a copy of a slice from a DataFrame.\n",
      "Try using .loc[row_indexer,col_indexer] = value instead\n",
      "\n",
      "See the caveats in the documentation: https://pandas.pydata.org/pandas-docs/stable/user_guide/indexing.html#returning-a-view-versus-a-copy\n",
      "  stayed_at_bank['z-score'] = scipy.stats.zscore(stayed_at_bank['кредитоспособность'])\n"
     ]
    }
   ],
   "source": [
    "stayed_at_bank['z-score'] = scipy.stats.zscore(stayed_at_bank['кредитоспособность'])"
   ]
  },
  {
   "cell_type": "code",
   "execution_count": 46,
   "id": "a0094809",
   "metadata": {},
   "outputs": [
    {
     "data": {
      "text/html": [
       "<div>\n",
       "<style scoped>\n",
       "    .dataframe tbody tr th:only-of-type {\n",
       "        vertical-align: middle;\n",
       "    }\n",
       "\n",
       "    .dataframe tbody tr th {\n",
       "        vertical-align: top;\n",
       "    }\n",
       "\n",
       "    .dataframe thead th {\n",
       "        text-align: right;\n",
       "    }\n",
       "</style>\n",
       "<table border=\"1\" class=\"dataframe\">\n",
       "  <thead>\n",
       "    <tr style=\"text-align: right;\">\n",
       "      <th></th>\n",
       "      <th>кредитоспособность</th>\n",
       "      <th>страна клиента</th>\n",
       "      <th>пол</th>\n",
       "      <th>возраст</th>\n",
       "      <th>срок сотрудничества</th>\n",
       "      <th>баланс</th>\n",
       "      <th>количесвто продуктов из банка</th>\n",
       "      <th>наличие кредитной карты</th>\n",
       "      <th>активность клиента в банке</th>\n",
       "      <th>доход клиента</th>\n",
       "      <th>отток</th>\n",
       "      <th>z-score</th>\n",
       "    </tr>\n",
       "  </thead>\n",
       "  <tbody>\n",
       "    <tr>\n",
       "      <th>1</th>\n",
       "      <td>608</td>\n",
       "      <td>Spain</td>\n",
       "      <td>Female</td>\n",
       "      <td>41</td>\n",
       "      <td>1</td>\n",
       "      <td>83807.86</td>\n",
       "      <td>1</td>\n",
       "      <td>0</td>\n",
       "      <td>1</td>\n",
       "      <td>112542.58</td>\n",
       "      <td>0</td>\n",
       "      <td>-0.458486</td>\n",
       "    </tr>\n",
       "    <tr>\n",
       "      <th>3</th>\n",
       "      <td>699</td>\n",
       "      <td>France</td>\n",
       "      <td>Female</td>\n",
       "      <td>39</td>\n",
       "      <td>1</td>\n",
       "      <td>0.00</td>\n",
       "      <td>2</td>\n",
       "      <td>0</td>\n",
       "      <td>0</td>\n",
       "      <td>93826.63</td>\n",
       "      <td>0</td>\n",
       "      <td>0.492921</td>\n",
       "    </tr>\n",
       "    <tr>\n",
       "      <th>4</th>\n",
       "      <td>850</td>\n",
       "      <td>Spain</td>\n",
       "      <td>Female</td>\n",
       "      <td>43</td>\n",
       "      <td>2</td>\n",
       "      <td>125510.82</td>\n",
       "      <td>1</td>\n",
       "      <td>1</td>\n",
       "      <td>1</td>\n",
       "      <td>79084.10</td>\n",
       "      <td>0</td>\n",
       "      <td>2.071629</td>\n",
       "    </tr>\n",
       "    <tr>\n",
       "      <th>6</th>\n",
       "      <td>822</td>\n",
       "      <td>France</td>\n",
       "      <td>Male</td>\n",
       "      <td>50</td>\n",
       "      <td>7</td>\n",
       "      <td>0.00</td>\n",
       "      <td>2</td>\n",
       "      <td>1</td>\n",
       "      <td>1</td>\n",
       "      <td>10062.80</td>\n",
       "      <td>0</td>\n",
       "      <td>1.778888</td>\n",
       "    </tr>\n",
       "    <tr>\n",
       "      <th>8</th>\n",
       "      <td>501</td>\n",
       "      <td>France</td>\n",
       "      <td>Male</td>\n",
       "      <td>44</td>\n",
       "      <td>4</td>\n",
       "      <td>142051.07</td>\n",
       "      <td>2</td>\n",
       "      <td>0</td>\n",
       "      <td>1</td>\n",
       "      <td>74940.50</td>\n",
       "      <td>0</td>\n",
       "      <td>-1.577173</td>\n",
       "    </tr>\n",
       "  </tbody>\n",
       "</table>\n",
       "</div>"
      ],
      "text/plain": [
       "   кредитоспособность страна клиента     пол  возраст  срок сотрудничества  \\\n",
       "1                 608          Spain  Female       41                    1   \n",
       "3                 699         France  Female       39                    1   \n",
       "4                 850          Spain  Female       43                    2   \n",
       "6                 822         France    Male       50                    7   \n",
       "8                 501         France    Male       44                    4   \n",
       "\n",
       "      баланс  количесвто продуктов из банка  наличие кредитной карты  \\\n",
       "1   83807.86                              1                        0   \n",
       "3       0.00                              2                        0   \n",
       "4  125510.82                              1                        1   \n",
       "6       0.00                              2                        1   \n",
       "8  142051.07                              2                        0   \n",
       "\n",
       "   активность клиента в банке  доход клиента  отток   z-score  \n",
       "1                           1      112542.58      0 -0.458486  \n",
       "3                           0       93826.63      0  0.492921  \n",
       "4                           1       79084.10      0  2.071629  \n",
       "6                           1       10062.80      0  1.778888  \n",
       "8                           1       74940.50      0 -1.577173  "
      ]
     },
     "execution_count": 46,
     "metadata": {},
     "output_type": "execute_result"
    }
   ],
   "source": [
    "stayed_at_bank.head()"
   ]
  },
  {
   "cell_type": "code",
   "execution_count": 47,
   "id": "cfa20e72",
   "metadata": {},
   "outputs": [],
   "source": [
    "bank = pd.concat([left_bank, stayed_at_bank])"
   ]
  },
  {
   "cell_type": "code",
   "execution_count": 48,
   "id": "4d24fa31",
   "metadata": {},
   "outputs": [
    {
     "data": {
      "text/plain": [
       "<AxesSubplot:>"
      ]
     },
     "execution_count": 48,
     "metadata": {},
     "output_type": "execute_result"
    },
    {
     "data": {
      "image/png": "[encoded data removed]",
      "text/plain": [
       "<Figure size 432x288 with 1 Axes>"
      ]
     },
     "metadata": {
      "needs_background": "light"
     },
     "output_type": "display_data"
    }
   ],
   "source": [
    "bank['z-score'].hist()"
   ]
  },
  {
   "cell_type": "code",
   "execution_count": 49,
   "id": "7bac6db3",
   "metadata": {},
   "outputs": [
    {
     "data": {
      "text/plain": [
       "отток\n",
       "0    1.694265e-16\n",
       "1    1.556601e-16\n",
       "Name: z-score, dtype: float64"
      ]
     },
     "execution_count": 49,
     "metadata": {},
     "output_type": "execute_result"
    }
   ],
   "source": [
    "bank.groupby('отток')['z-score'].mean()"
   ]
  },
  {
   "cell_type": "markdown",
   "id": "08d93b0c",
   "metadata": {},
   "source": [
    "Можно сказать, что распределние оценок кредитоспособности относительно оттока клиентов находится практически на одном уровне."
   ]
  },
  {
   "cell_type": "markdown",
   "id": "a75abec3",
   "metadata": {},
   "source": [
    "У банка клиент может использовать до 4 продктов. Можно предположить, что клиенты, которые используют больше продуктов - более лояльны к банку и скорее всего его не покинут. "
   ]
  },
  {
   "cell_type": "code",
   "execution_count": 50,
   "id": "c4dd9ff3",
   "metadata": {},
   "outputs": [
    {
     "data": {
      "text/plain": [
       "1    1409\n",
       "2     348\n",
       "3     220\n",
       "4      60\n",
       "Name: количесвто продуктов из банка, dtype: int64"
      ]
     },
     "execution_count": 50,
     "metadata": {},
     "output_type": "execute_result"
    }
   ],
   "source": [
    "bank[(bank['отток'] == 1)]['количесвто продуктов из банка'].value_counts()"
   ]
  },
  {
   "cell_type": "code",
   "execution_count": 51,
   "id": "9508f605",
   "metadata": {},
   "outputs": [
    {
     "data": {
      "text/plain": [
       "2    4242\n",
       "1    3675\n",
       "3      46\n",
       "Name: количесвто продуктов из банка, dtype: int64"
      ]
     },
     "execution_count": 51,
     "metadata": {},
     "output_type": "execute_result"
    }
   ],
   "source": [
    "bank[(bank['отток'] == 0)]['количесвто продуктов из банка'].value_counts()"
   ]
  },
  {
   "cell_type": "markdown",
   "id": "8a0d58bd",
   "metadata": {},
   "source": [
    "Большая часть клиентов банка использует 1-2 продукта, однако можно заметить, что клиенты, которые используют 3-4 продукта чаще уходят. Например, было всего 60 клиентов, которые использовали 4 продукта и все они ушли."
   ]
  },
  {
   "cell_type": "code",
   "execution_count": 52,
   "id": "1b7da1ee",
   "metadata": {},
   "outputs": [
    {
     "data": {
      "text/plain": [
       "<AxesSubplot:xlabel='отток'>"
      ]
     },
     "execution_count": 52,
     "metadata": {},
     "output_type": "execute_result"
    },
    {
     "data": {
      "image/png": "[encoded data removed]",
      "text/plain": [
       "<Figure size 432x288 with 1 Axes>"
      ]
     },
     "metadata": {
      "needs_background": "light"
     },
     "output_type": "display_data"
    }
   ],
   "source": [
    "bank.groupby('отток')['страна клиента'].value_counts().unstack().plot(kind='bar')"
   ]
  },
  {
   "cell_type": "markdown",
   "id": "bca9d75f",
   "metadata": {},
   "source": [
    "Также сравним место проживания клиентов с уровнем оттока. В Германии и Испании было примерно одинаковое количество клиентов за все время, однако испанцы реже всех покидают банк. Судя по графику чаще всего услги банка не устраивают немцев (соотношение текущих французских клиентов к ушедшим гораздо меньше ощущается). "
   ]
  },
  {
   "cell_type": "code",
   "execution_count": 53,
   "id": "2c5c770f",
   "metadata": {},
   "outputs": [
    {
     "data": {
      "image/png": "[encoded data removed]",
      "text/plain": [
       "<Figure size 432x288 with 1 Axes>"
      ]
     },
     "metadata": {
      "needs_background": "light"
     },
     "output_type": "display_data"
    }
   ],
   "source": [
    "sns.boxplot(x=bank['отток'], y=bank['срок сотрудничества']) #блочная диаграмма\n",
    "plt.show()"
   ]
  },
  {
   "cell_type": "markdown",
   "id": "54496dc1",
   "metadata": {},
   "source": [
    "Если мы посмотрим на диаграмму, то можно сказать, что срок сотрудничества и отток клиентов не сильно взаимосвязаны, нет выбросов данных. Банк покидают клиенты, которые были с ним и 2 года, и 7 лет."
   ]
  },
  {
   "cell_type": "markdown",
   "id": "6f0ebac5",
   "metadata": {},
   "source": [
    "Конечно же нельзя говорить о банке, не измерив финансовую составляющую. Ниже гафики, которые показывают взаимосвязь заработной платы и уровня сбережений с теми, кто покинул банк и с теми, кто остался. Интересно, что заработная плата клиентов никак не вияет на уровень оттока. А вот в размере баланса можно увидеть разницу. Так, размер средств, ушедших клиентов в основном находится в передлах 50000-130000, однако также есть клиенты с максимальным доходом (более 250000), которые решили прекратить сотрудничество.\n",
    "\n"
   ]
  },
  {
   "cell_type": "code",
   "execution_count": 54,
   "id": "7fe03641",
   "metadata": {},
   "outputs": [
    {
     "data": {
      "image/png": "[encoded data removed]",
      "text/plain": [
       "<Figure size 432x288 with 1 Axes>"
      ]
     },
     "metadata": {
      "needs_background": "light"
     },
     "output_type": "display_data"
    }
   ],
   "source": [
    "sns.boxplot(x=bank['отток'], y=bank['доход клиента'])\n",
    "plt.show()"
   ]
  },
  {
   "cell_type": "code",
   "execution_count": 55,
   "id": "51429b7e",
   "metadata": {},
   "outputs": [
    {
     "data": {
      "image/png": "[encoded data removed]",
      "text/plain": [
       "<Figure size 432x288 with 1 Axes>"
      ]
     },
     "metadata": {
      "needs_background": "light"
     },
     "output_type": "display_data"
    }
   ],
   "source": [
    "sns.boxplot(x=bank['отток'], y=bank['баланс'])\n",
    "plt.show()"
   ]
  },
  {
   "cell_type": "code",
   "execution_count": 56,
   "id": "5895604f",
   "metadata": {},
   "outputs": [
    {
     "data": {
      "text/plain": [
       "отток\n",
       "0    72745.296779\n",
       "1    91108.539337\n",
       "Name: баланс, dtype: float64"
      ]
     },
     "execution_count": 56,
     "metadata": {},
     "output_type": "execute_result"
    }
   ],
   "source": [
    "bank.groupby('отток')['баланс'].mean()"
   ]
  },
  {
   "cell_type": "code",
   "execution_count": 57,
   "id": "5623d06b",
   "metadata": {},
   "outputs": [
    {
     "data": {
      "text/plain": [
       "отток\n",
       "0    72745.296779\n",
       "1    91108.539337\n",
       "Name: баланс, dtype: float64"
      ]
     },
     "execution_count": 57,
     "metadata": {},
     "output_type": "execute_result"
    }
   ],
   "source": [
    "bank.groupby('отток')['баланс'].mean()"
   ]
  },
  {
   "cell_type": "markdown",
   "id": "9e2ba911",
   "metadata": {},
   "source": [
    "Итак, мы сравнили некоторые характеристики, которые важны в работе банка. Мы выявили, что в большей степени о желании клиента покинуть банк нам может сказать следующее:\n",
    "\n",
    "1. Возраст клинта (чем клиент старше, тем больше вероятность, что он уйдет);\n",
    "2. Неактивность клинта (активные клиенты покидают банк поти в полтара раза реже);\n",
    "3. Наличие кредитной карты (да, это неожиданно, но клиенты, которые имеют кредитку уходят чаще);\n",
    "4. Размер баланса (это не вдияет напрямую, но в основном клиенты уходят со средним уровнем счета).\n",
    "\n",
    "Следующие факторы оказались не так важны:\n",
    "1. Срок сотрудничества клиента с банком;\n",
    "2. Уровень заработной платы.\n",
    "\n",
    "Можно попробовать создать \"идеального клиента\" банка, который на вряд ли его покинет."
   ]
  },
  {
   "cell_type": "code",
   "execution_count": 58,
   "id": "13756ffc",
   "metadata": {},
   "outputs": [
    {
     "data": {
      "text/plain": [
       "count     10000.000000\n",
       "mean      76485.889288\n",
       "std       62397.405202\n",
       "min           0.000000\n",
       "25%           0.000000\n",
       "50%       97198.540000\n",
       "75%      127644.240000\n",
       "max      250898.090000\n",
       "Name: баланс, dtype: float64"
      ]
     },
     "execution_count": 58,
     "metadata": {},
     "output_type": "execute_result"
    }
   ],
   "source": [
    "bank['баланс'].describe()"
   ]
  },
  {
   "cell_type": "code",
   "execution_count": 59,
   "id": "eda86c55",
   "metadata": {},
   "outputs": [],
   "source": [
    "def get_balance_cat(balance):\n",
    "    if balance < 50000:\n",
    "        return 'мало сбережений'\n",
    "    elif balance < 100000:\n",
    "        return 'достаточно сбережений'\n",
    "    elif balance < 150000:\n",
    "        return 'много сбережений'\n",
    "    elif balance >= 150000:\n",
    "        return 'богатсво'\n",
    "    else:\n",
    "        return salary"
   ]
  },
  {
   "cell_type": "code",
   "execution_count": 60,
   "id": "a7f8add0",
   "metadata": {},
   "outputs": [],
   "source": [
    "bank['balance category'] = bank['баланс'].apply(get_balance_cat)"
   ]
  },
  {
   "cell_type": "code",
   "execution_count": 61,
   "id": "5c0ca791",
   "metadata": {},
   "outputs": [
    {
     "data": {
      "text/html": [
       "<div>\n",
       "<style scoped>\n",
       "    .dataframe tbody tr th:only-of-type {\n",
       "        vertical-align: middle;\n",
       "    }\n",
       "\n",
       "    .dataframe tbody tr th {\n",
       "        vertical-align: top;\n",
       "    }\n",
       "\n",
       "    .dataframe thead th {\n",
       "        text-align: right;\n",
       "    }\n",
       "</style>\n",
       "<table border=\"1\" class=\"dataframe\">\n",
       "  <thead>\n",
       "    <tr style=\"text-align: right;\">\n",
       "      <th></th>\n",
       "      <th>кредитоспособность</th>\n",
       "      <th>страна клиента</th>\n",
       "      <th>пол</th>\n",
       "      <th>возраст</th>\n",
       "      <th>срок сотрудничества</th>\n",
       "      <th>баланс</th>\n",
       "      <th>количесвто продуктов из банка</th>\n",
       "      <th>наличие кредитной карты</th>\n",
       "      <th>активность клиента в банке</th>\n",
       "      <th>доход клиента</th>\n",
       "      <th>отток</th>\n",
       "      <th>z-score</th>\n",
       "      <th>balance category</th>\n",
       "    </tr>\n",
       "  </thead>\n",
       "  <tbody>\n",
       "    <tr>\n",
       "      <th>0</th>\n",
       "      <td>619</td>\n",
       "      <td>France</td>\n",
       "      <td>Female</td>\n",
       "      <td>42</td>\n",
       "      <td>2</td>\n",
       "      <td>0.00</td>\n",
       "      <td>1</td>\n",
       "      <td>1</td>\n",
       "      <td>1</td>\n",
       "      <td>101348.88</td>\n",
       "      <td>1</td>\n",
       "      <td>-0.262735</td>\n",
       "      <td>мало сбережений</td>\n",
       "    </tr>\n",
       "    <tr>\n",
       "      <th>2</th>\n",
       "      <td>502</td>\n",
       "      <td>France</td>\n",
       "      <td>Female</td>\n",
       "      <td>42</td>\n",
       "      <td>8</td>\n",
       "      <td>159660.80</td>\n",
       "      <td>3</td>\n",
       "      <td>1</td>\n",
       "      <td>0</td>\n",
       "      <td>113931.57</td>\n",
       "      <td>1</td>\n",
       "      <td>-1.429272</td>\n",
       "      <td>богатсво</td>\n",
       "    </tr>\n",
       "    <tr>\n",
       "      <th>5</th>\n",
       "      <td>645</td>\n",
       "      <td>Spain</td>\n",
       "      <td>Male</td>\n",
       "      <td>44</td>\n",
       "      <td>8</td>\n",
       "      <td>113755.78</td>\n",
       "      <td>2</td>\n",
       "      <td>1</td>\n",
       "      <td>0</td>\n",
       "      <td>149756.71</td>\n",
       "      <td>1</td>\n",
       "      <td>-0.003505</td>\n",
       "      <td>много сбережений</td>\n",
       "    </tr>\n",
       "    <tr>\n",
       "      <th>7</th>\n",
       "      <td>376</td>\n",
       "      <td>Germany</td>\n",
       "      <td>Female</td>\n",
       "      <td>29</td>\n",
       "      <td>4</td>\n",
       "      <td>115046.74</td>\n",
       "      <td>4</td>\n",
       "      <td>1</td>\n",
       "      <td>0</td>\n",
       "      <td>119346.88</td>\n",
       "      <td>1</td>\n",
       "      <td>-2.685542</td>\n",
       "      <td>много сбережений</td>\n",
       "    </tr>\n",
       "    <tr>\n",
       "      <th>16</th>\n",
       "      <td>653</td>\n",
       "      <td>Germany</td>\n",
       "      <td>Male</td>\n",
       "      <td>58</td>\n",
       "      <td>1</td>\n",
       "      <td>132602.88</td>\n",
       "      <td>1</td>\n",
       "      <td>1</td>\n",
       "      <td>0</td>\n",
       "      <td>5097.67</td>\n",
       "      <td>1</td>\n",
       "      <td>0.076259</td>\n",
       "      <td>много сбережений</td>\n",
       "    </tr>\n",
       "  </tbody>\n",
       "</table>\n",
       "</div>"
      ],
      "text/plain": [
       "    кредитоспособность страна клиента     пол  возраст  срок сотрудничества  \\\n",
       "0                  619         France  Female       42                    2   \n",
       "2                  502         France  Female       42                    8   \n",
       "5                  645          Spain    Male       44                    8   \n",
       "7                  376        Germany  Female       29                    4   \n",
       "16                 653        Germany    Male       58                    1   \n",
       "\n",
       "       баланс  количесвто продуктов из банка  наличие кредитной карты  \\\n",
       "0        0.00                              1                        1   \n",
       "2   159660.80                              3                        1   \n",
       "5   113755.78                              2                        1   \n",
       "7   115046.74                              4                        1   \n",
       "16  132602.88                              1                        1   \n",
       "\n",
       "    активность клиента в банке  доход клиента  отток   z-score  \\\n",
       "0                            1      101348.88      1 -0.262735   \n",
       "2                            0      113931.57      1 -1.429272   \n",
       "5                            0      149756.71      1 -0.003505   \n",
       "7                            0      119346.88      1 -2.685542   \n",
       "16                           0        5097.67      1  0.076259   \n",
       "\n",
       "    balance category  \n",
       "0    мало сбережений  \n",
       "2           богатсво  \n",
       "5   много сбережений  \n",
       "7   много сбережений  \n",
       "16  много сбережений  "
      ]
     },
     "execution_count": 61,
     "metadata": {},
     "output_type": "execute_result"
    }
   ],
   "source": [
    "bank.head()"
   ]
  },
  {
   "cell_type": "code",
   "execution_count": 62,
   "id": "a3c7e58f",
   "metadata": {},
   "outputs": [
    {
     "data": {
      "text/html": [
       "<div>\n",
       "<style scoped>\n",
       "    .dataframe tbody tr th:only-of-type {\n",
       "        vertical-align: middle;\n",
       "    }\n",
       "\n",
       "    .dataframe tbody tr th {\n",
       "        vertical-align: top;\n",
       "    }\n",
       "\n",
       "    .dataframe thead th {\n",
       "        text-align: right;\n",
       "    }\n",
       "</style>\n",
       "<table border=\"1\" class=\"dataframe\">\n",
       "  <thead>\n",
       "    <tr style=\"text-align: right;\">\n",
       "      <th></th>\n",
       "      <th>balance category</th>\n",
       "      <th>баланс</th>\n",
       "    </tr>\n",
       "  </thead>\n",
       "  <tbody>\n",
       "    <tr>\n",
       "      <th>9993</th>\n",
       "      <td>богатсво</td>\n",
       "      <td>155060.41</td>\n",
       "    </tr>\n",
       "    <tr>\n",
       "      <th>9994</th>\n",
       "      <td>мало сбережений</td>\n",
       "      <td>0.00</td>\n",
       "    </tr>\n",
       "    <tr>\n",
       "      <th>9995</th>\n",
       "      <td>мало сбережений</td>\n",
       "      <td>0.00</td>\n",
       "    </tr>\n",
       "    <tr>\n",
       "      <th>9996</th>\n",
       "      <td>достаточно сбережений</td>\n",
       "      <td>57369.61</td>\n",
       "    </tr>\n",
       "    <tr>\n",
       "      <th>9999</th>\n",
       "      <td>много сбережений</td>\n",
       "      <td>130142.79</td>\n",
       "    </tr>\n",
       "  </tbody>\n",
       "</table>\n",
       "</div>"
      ],
      "text/plain": [
       "           balance category     баланс\n",
       "9993               богатсво  155060.41\n",
       "9994        мало сбережений       0.00\n",
       "9995        мало сбережений       0.00\n",
       "9996  достаточно сбережений   57369.61\n",
       "9999       много сбережений  130142.79"
      ]
     },
     "execution_count": 62,
     "metadata": {},
     "output_type": "execute_result"
    }
   ],
   "source": [
    "bank[['balance category', 'баланс']].tail()"
   ]
  },
  {
   "cell_type": "code",
   "execution_count": 63,
   "id": "0a620184",
   "metadata": {},
   "outputs": [],
   "source": [
    "bank['balance category'] = pd.Categorical(bank['balance category'])"
   ]
  },
  {
   "cell_type": "code",
   "execution_count": 64,
   "id": "829b92e4",
   "metadata": {},
   "outputs": [
    {
     "name": "stdout",
     "output_type": "stream",
     "text": [
      "<class 'pandas.core.frame.DataFrame'>\n",
      "Int64Index: 10000 entries, 0 to 9999\n",
      "Data columns (total 13 columns):\n",
      " #   Column                         Non-Null Count  Dtype   \n",
      "---  ------                         --------------  -----   \n",
      " 0   кредитоспособность             10000 non-null  int64   \n",
      " 1   страна клиента                 10000 non-null  object  \n",
      " 2   пол                            10000 non-null  object  \n",
      " 3   возраст                        10000 non-null  int64   \n",
      " 4   срок сотрудничества            10000 non-null  int64   \n",
      " 5   баланс                         10000 non-null  float64 \n",
      " 6   количесвто продуктов из банка  10000 non-null  int64   \n",
      " 7   наличие кредитной карты        10000 non-null  int64   \n",
      " 8   активность клиента в банке     10000 non-null  int64   \n",
      " 9   доход клиента                  10000 non-null  float64 \n",
      " 10  отток                          10000 non-null  int64   \n",
      " 11  z-score                        10000 non-null  float64 \n",
      " 12  balance category               10000 non-null  category\n",
      "dtypes: category(1), float64(3), int64(7), object(2)\n",
      "memory usage: 1.0+ MB\n"
     ]
    }
   ],
   "source": [
    "bank.info()"
   ]
  },
  {
   "cell_type": "markdown",
   "id": "2cd58ef4",
   "metadata": {},
   "source": [
    "Размер баланса имеет влияние на отток клиентов, поэтому именно эту переменную интересно сравнить, закодируем, чтобы было удобней"
   ]
  },
  {
   "cell_type": "code",
   "execution_count": 65,
   "id": "e08e4025",
   "metadata": {},
   "outputs": [
    {
     "data": {
      "text/plain": [
       "0       2\n",
       "2       0\n",
       "5       3\n",
       "7       3\n",
       "16      3\n",
       "       ..\n",
       "9993    0\n",
       "9994    2\n",
       "9995    2\n",
       "9996    1\n",
       "9999    3\n",
       "Length: 10000, dtype: int8"
      ]
     },
     "execution_count": 65,
     "metadata": {},
     "output_type": "execute_result"
    }
   ],
   "source": [
    "bank['balance category'].cat.codes #массив закодированными числами"
   ]
  },
  {
   "cell_type": "code",
   "execution_count": 66,
   "id": "8c25157d",
   "metadata": {},
   "outputs": [
    {
     "data": {
      "text/plain": [
       "Index(['богатсво', 'достаточно сбережений', 'мало сбережений',\n",
       "       'много сбережений'],\n",
       "      dtype='object')"
      ]
     },
     "execution_count": 66,
     "metadata": {},
     "output_type": "execute_result"
    }
   ],
   "source": [
    "bank['balance category'].cat.categories"
   ]
  },
  {
   "cell_type": "code",
   "execution_count": 67,
   "id": "ad2098f5",
   "metadata": {},
   "outputs": [
    {
     "data": {
      "text/html": [
       "<div>\n",
       "<style scoped>\n",
       "    .dataframe tbody tr th:only-of-type {\n",
       "        vertical-align: middle;\n",
       "    }\n",
       "\n",
       "    .dataframe tbody tr th {\n",
       "        vertical-align: top;\n",
       "    }\n",
       "\n",
       "    .dataframe thead th {\n",
       "        text-align: right;\n",
       "    }\n",
       "</style>\n",
       "<table border=\"1\" class=\"dataframe\">\n",
       "  <thead>\n",
       "    <tr style=\"text-align: right;\">\n",
       "      <th></th>\n",
       "      <th>кредитоспособность</th>\n",
       "      <th>страна клиента</th>\n",
       "      <th>пол</th>\n",
       "      <th>возраст</th>\n",
       "      <th>срок сотрудничества</th>\n",
       "      <th>баланс</th>\n",
       "      <th>количесвто продуктов из банка</th>\n",
       "      <th>наличие кредитной карты</th>\n",
       "      <th>активность клиента в банке</th>\n",
       "      <th>доход клиента</th>\n",
       "      <th>отток</th>\n",
       "      <th>z-score</th>\n",
       "      <th>balance category</th>\n",
       "    </tr>\n",
       "  </thead>\n",
       "  <tbody>\n",
       "    <tr>\n",
       "      <th>0</th>\n",
       "      <td>619</td>\n",
       "      <td>France</td>\n",
       "      <td>Female</td>\n",
       "      <td>42</td>\n",
       "      <td>2</td>\n",
       "      <td>0.00</td>\n",
       "      <td>1</td>\n",
       "      <td>1</td>\n",
       "      <td>1</td>\n",
       "      <td>101348.88</td>\n",
       "      <td>1</td>\n",
       "      <td>-0.262735</td>\n",
       "      <td>мало сбережений</td>\n",
       "    </tr>\n",
       "    <tr>\n",
       "      <th>2</th>\n",
       "      <td>502</td>\n",
       "      <td>France</td>\n",
       "      <td>Female</td>\n",
       "      <td>42</td>\n",
       "      <td>8</td>\n",
       "      <td>159660.80</td>\n",
       "      <td>3</td>\n",
       "      <td>1</td>\n",
       "      <td>0</td>\n",
       "      <td>113931.57</td>\n",
       "      <td>1</td>\n",
       "      <td>-1.429272</td>\n",
       "      <td>богатсво</td>\n",
       "    </tr>\n",
       "    <tr>\n",
       "      <th>5</th>\n",
       "      <td>645</td>\n",
       "      <td>Spain</td>\n",
       "      <td>Male</td>\n",
       "      <td>44</td>\n",
       "      <td>8</td>\n",
       "      <td>113755.78</td>\n",
       "      <td>2</td>\n",
       "      <td>1</td>\n",
       "      <td>0</td>\n",
       "      <td>149756.71</td>\n",
       "      <td>1</td>\n",
       "      <td>-0.003505</td>\n",
       "      <td>много сбережений</td>\n",
       "    </tr>\n",
       "    <tr>\n",
       "      <th>7</th>\n",
       "      <td>376</td>\n",
       "      <td>Germany</td>\n",
       "      <td>Female</td>\n",
       "      <td>29</td>\n",
       "      <td>4</td>\n",
       "      <td>115046.74</td>\n",
       "      <td>4</td>\n",
       "      <td>1</td>\n",
       "      <td>0</td>\n",
       "      <td>119346.88</td>\n",
       "      <td>1</td>\n",
       "      <td>-2.685542</td>\n",
       "      <td>много сбережений</td>\n",
       "    </tr>\n",
       "    <tr>\n",
       "      <th>16</th>\n",
       "      <td>653</td>\n",
       "      <td>Germany</td>\n",
       "      <td>Male</td>\n",
       "      <td>58</td>\n",
       "      <td>1</td>\n",
       "      <td>132602.88</td>\n",
       "      <td>1</td>\n",
       "      <td>1</td>\n",
       "      <td>0</td>\n",
       "      <td>5097.67</td>\n",
       "      <td>1</td>\n",
       "      <td>0.076259</td>\n",
       "      <td>много сбережений</td>\n",
       "    </tr>\n",
       "  </tbody>\n",
       "</table>\n",
       "</div>"
      ],
      "text/plain": [
       "    кредитоспособность страна клиента     пол  возраст  срок сотрудничества  \\\n",
       "0                  619         France  Female       42                    2   \n",
       "2                  502         France  Female       42                    8   \n",
       "5                  645          Spain    Male       44                    8   \n",
       "7                  376        Germany  Female       29                    4   \n",
       "16                 653        Germany    Male       58                    1   \n",
       "\n",
       "       баланс  количесвто продуктов из банка  наличие кредитной карты  \\\n",
       "0        0.00                              1                        1   \n",
       "2   159660.80                              3                        1   \n",
       "5   113755.78                              2                        1   \n",
       "7   115046.74                              4                        1   \n",
       "16  132602.88                              1                        1   \n",
       "\n",
       "    активность клиента в банке  доход клиента  отток   z-score  \\\n",
       "0                            1      101348.88      1 -0.262735   \n",
       "2                            0      113931.57      1 -1.429272   \n",
       "5                            0      149756.71      1 -0.003505   \n",
       "7                            0      119346.88      1 -2.685542   \n",
       "16                           0        5097.67      1  0.076259   \n",
       "\n",
       "    balance category  \n",
       "0    мало сбережений  \n",
       "2           богатсво  \n",
       "5   много сбережений  \n",
       "7   много сбережений  \n",
       "16  много сбережений  "
      ]
     },
     "execution_count": 67,
     "metadata": {},
     "output_type": "execute_result"
    }
   ],
   "source": [
    "bank.head()"
   ]
  },
  {
   "cell_type": "code",
   "execution_count": 87,
   "id": "1171f758",
   "metadata": {},
   "outputs": [],
   "source": [
    "#создаем свою переменную идеальный клиент\n",
    "bank['ideal customer'] = np.where((bank['balance category'] == 'достаточно сбережений') |\n",
    "                                  (bank['balance category'] == 'мало сбережений') | \n",
    "                                  (bank['balance category'] == 'много сбережений') &\n",
    "                                  (bank['активность клиента в банке'] == 1) &       \n",
    "                                  (bank['количесвто продуктов из банка'] <= 2) &\n",
    "                                  (bank['отток'] == 0) &\n",
    "                                  (bank['возраст'] <= 37), 1, 0) #два аргумента, что вернуть если true, что если false"
   ]
  },
  {
   "cell_type": "code",
   "execution_count": 88,
   "id": "c3710fa9",
   "metadata": {},
   "outputs": [
    {
     "data": {
      "text/plain": [
       "1    6078\n",
       "0    3922\n",
       "Name: ideal customer, dtype: int64"
      ]
     },
     "execution_count": 88,
     "metadata": {},
     "output_type": "execute_result"
    }
   ],
   "source": [
    "bank['ideal customer'].value_counts()"
   ]
  },
  {
   "cell_type": "markdown",
   "id": "7c3d25d6",
   "metadata": {},
   "source": [
    "Выше обозначили клиентов, которые скорее всего не покинут банк в ближайшее время. Под наименование \"идеальный клиент\" не подходят 3922 человека, из них 2037 человек уже покинули банк. У нас нет четкого периода, за который клиенты покидали банк, но за определенный период может уйти 1885 человек (конечно, это приблизительные данные и просто гипотиза). "
   ]
  },
  {
   "cell_type": "markdown",
   "id": "03a53b25",
   "metadata": {},
   "source": [
    "**Итак, мы выявили, что основные факторы, влияющие на отток клиентов это:**\n",
    "\n",
    "*1. Возрат клиента. Чаще всего банк покидают люди 40+ лет, как правило, у таких людей уже должен быть определенный накоп денег в банке и желание стабильности, однако они все равно предпочитают сменить банк. С другой стороны, люди в возрасте уже имеют какое-то состояние и им не нужно, например, брать кредит или ипотеку в банке;*\n",
    "\n",
    "*2. Клиенты, которые нечасто взаимодейсвтуют с банком покидают его чаще. Как правило, активные клиенты интересются жизнью банка, следят за его обновленими, но не всем это интересно;*\n",
    "\n",
    "*3. Банк часто покидают люди, которые используют 3-4 продукта, по идее, им должно быть сложнее отказаться от использования нескольких продуктов сразу;*\n",
    "\n",
    "*4. Размер баланса тоже в какой-то степени влияет на желание покинуть банк, так, богатые люди уходят чаще, возможно, за более выгодными начислениями на сберегательный счет;*\n",
    "\n",
    "*5. Чаще всего банк покидают клиенты из Германии.*\n",
    "    \n",
    "    \n",
    "**Определенные моменты не влияют или имеют какое-то незначительное влияние:**\n",
    "\n",
    "*1. Размер зарплаты клиента. Мы видим, что банк покидают люди в независимости от их дохода;*\n",
    "\n",
    "*2. Кредитоспособность клиента также не имеет особого влияния. Хотя некоторые клиенты (с низким уровнем оценки кредитоспособности) навряд ли смогут пользоваться всеми продуктами банка, такими как кредит или ипотека;*\n",
    "\n",
    "*3. Срок сотрудничества с банком. Интересно, что люди уходят, как после одного года с банком, так и после 7 лет. Т.е. они продолжают искать более вгодные варианты.*"
   ]
  },
  {
   "cell_type": "markdown",
   "id": "df0ce234",
   "metadata": {},
   "source": [
    "**На мой взгляд, банку можно попробовать следующие мероприятия по удержанию клиентов:**\n",
    "\n",
    "1. Придумать особую систему лояльности для людей старше 40 лет, а особенно пожилых людей. Например, предложить более выгодные условия кредита или выпускать дебетовые карты без платного обслуживания;\n",
    "\n",
    "\n",
    "2. Вовлекать клиентов быть активными в банке. Например, использовать мобильное приложение, пуш уведомления, которые будут напоминать клиентам о банке. Приложение обязательно должно быть кастомизированным и удобным в использовании, чтобы пользователь мог легко превести деньги на другую карту, посмотреть статистику по доходам и расхода и др. Можно придумать какие-то развлекательные элементы и геймификацию, например, игра за бонусы (как бонусы Сберспасибо);\n",
    "\n",
    "\n",
    "3. Быть более внимательными к тем, кто использует 3-4 продукта банка. Проанализировать, что не понравилось ушедшим клиентам. Возможно, использование нескольких продуктов сразу более выгодно у конкурентов, нужно это проанализировать и по возможности исправить, например, давать скидку на каждый третий продукт;\n",
    "\n",
    "\n",
    "4. Проанализировать оснонвынх конкурентов в Германии и определить их уникальное торговое предложение;\n",
    "\n",
    "\n",
    "5. Банк не может повлиять на баланск клиента, однако он может управлять ставками на сберегательном счете, можно отслеживать процент для более обеспеченных клиентов."
   ]
  },
  {
   "cell_type": "code",
   "execution_count": null,
   "id": "44900d13",
   "metadata": {},
   "outputs": [],
   "source": []
  }
 ],
 "metadata": {
  "kernelspec": {
   "display_name": "Python 3 (ipykernel)",
   "language": "python",
   "name": "python3"
  },
  "language_info": {
   "codemirror_mode": {
    "name": "ipython",
    "version": 3
   },
   "file_extension": ".py",
   "mimetype": "text/x-python",
   "name": "python",
   "nbconvert_exporter": "python",
   "pygments_lexer": "ipython3",
   "version": "3.9.12"
  }
 },
 "nbformat": 4,
 "nbformat_minor": 5
}
